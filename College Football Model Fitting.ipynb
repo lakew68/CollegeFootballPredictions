{
 "cells": [
  {
   "cell_type": "markdown",
   "id": "3934f566",
   "metadata": {},
   "source": [
    "This file shows the process of fitting and tuning the models. Current best model for spread predictions following the 2023 season is using the neural net alone with margins of > 3 points, for a balance of decent N and decent accuracy. This currently beats random guessing against Vegas spreads at the 2 $\\sigma$ level."
   ]
  },
  {
   "cell_type": "code",
   "execution_count": 1,
   "id": "865838b6",
   "metadata": {
    "scrolled": false
   },
   "outputs": [
    {
     "name": "stdout",
     "output_type": "stream",
     "text": [
      "Gathering games from  2023\n",
      "Compiling games from week, year:  1 2023\n",
      "Compiling games from week, year:  2 2023\n",
      "Compiling games from week, year:  3 2023\n",
      "Compiling games from week, year:  4 2023\n",
      "Compiling games from week, year:  5 2023\n",
      "Compiling games from week, year:  6 2023\n",
      "Compiling games from week, year:  7 2023\n",
      "Compiling games from week, year:  8 2023\n",
      "Compiling games from week, year:  9 2023\n",
      "Compiling games from week, year:  10 2023\n",
      "Compiling games from week, year:  11 2023\n",
      "Compiling games from week, year:  12 2023\n",
      "Compiling games from week, year:  13 2023\n",
      "Compiling games from week, year:  14 2023\n",
      "Compiling games from week, year:  15 2023\n",
      "Adding games to cache from  2023\n"
     ]
    }
   ],
   "source": [
    "'''\n",
    "Gathers relevant CFB stats by game. Takes a long time to run the first time, but is much faster in subsequent runs.\n",
    "'''\n",
    "\n",
    "\n",
    "# Requires cfbd: pip install cfbd\n",
    "from __future__ import print_function\n",
    "import cfbd\n",
    "from cfbd.rest import ApiException\n",
    "from pprint import pprint\n",
    "import pickle\n",
    "import numpy as np\n",
    "import pandas as pd\n",
    "from sklearn import preprocessing\n",
    "from sklearn.linear_model import Lasso\n",
    "from sklearn.linear_model import LassoCV\n",
    "from sklearn.feature_selection import SelectFromModel\n",
    "from bayes_opt import BayesianOptimization\n",
    "from xgboost import XGBRegressor,XGBClassifier\n",
    "from sklearn.model_selection import GridSearchCV, RandomizedSearchCV\n",
    "from sklearn.metrics import roc_auc_score\n",
    "from sklearn.model_selection import StratifiedKFold, train_test_split\n",
    "from sklearn.decomposition import FactorAnalysis\n",
    "from fastai.data.transforms import RandomSplitter\n",
    "from fastai.tabular.all import *\n",
    "from select_features import select_features\n",
    "from update_game_data import gather_game_data, gather_new_game_data, process_games\n",
    "\n",
    "# Configure API key authorization: ApiKeyAuth\n",
    "configuration = cfbd.Configuration()\n",
    "configuration.api_key['Authorization'] = # Redacted\n",
    "configuration.api_key_prefix['Authorization'] = 'Bearer'\n",
    "\n",
    "\n",
    "games = gather_game_data(configuration)"
   ]
  },
  {
   "cell_type": "code",
   "execution_count": null,
   "id": "e97a6342",
   "metadata": {
    "scrolled": true
   },
   "outputs": [],
   "source": [
    "# Feature selection\n",
    "def home_covers_spread(row):\n",
    "    if row['margin'] > row['spread']:\n",
    "        return 1\n",
    "    else:\n",
    "        return 0\n",
    "\n",
    "games_flat = []\n",
    "for year in games.keys():\n",
    "    for week in games[year].keys():\n",
    "        games_flat.extend([games[year][week][gid] for gid in games[year][week].keys() if ('home_elo' in games[year][week][gid].keys()) and ('away_elo' in games[year][week][gid].keys()) and games[year][week][gid]['home_elo'] is not None and games[year][week][gid]['away_elo'] is not None])\n",
    "\n",
    "df = pd.DataFrame.from_records(games_flat).dropna()\n",
    "df['covers'] = df.apply(home_covers_spread, axis=1)\n",
    "\n",
    "df_z_scaled = df.copy().query('year > 2015 & week > 3') # Only run feature selection and engineering on complete data\n",
    "excluded = ['spread','gid','year','home_team','away_team', 'home_points','margin', 'covers', 'away_points','home_wins','home_interceptions','away_interceptions','home_interceptionYards','away_interceptionYards','home_fumblesLost','away_fumblesLost','home_fumblesRecovered','away_fumblesRecovered','home_interceptions_lastSeason','away_interceptions_lastSeason','home_interceptionYards_lastSeason','away_interceptionYards_lastSeason','home_fumblesLost_lastSeason','away_fumblesLost_lastSeason','home_fumblesRecovered_lastSeason','away_fumblesRecovered_lastSeason','home_interceptions_lastThree','away_interceptions_lastThree','home_interceptionYards_lastThree','away_interceptionYards_lastThree','home_fumblesLost_lastThree','away_fumblesLost_lastThree','home_fumblesRecovered_lastThree','away_fumblesRecovered_lastThree']\n",
    "# spread treated specially later to avoid losing information in various data processing methods\n",
    "cat_features = ['home_conference','away_conference','neutral_site']\n",
    "\n",
    "features = []\n",
    "for column in df_z_scaled.columns:\n",
    "    if column not in excluded and column not in cat_features and column != 'week':\n",
    "        df_z_scaled[column] = (df_z_scaled[column] - df[column].mean())/df[column].std()\n",
    "        features.append(column)\n",
    "features.append('week')\n",
    "     \n",
    "# Needs df with only included features\n",
    "\n",
    "df_features_scaled = df_z_scaled.filter(features, axis=1)\n",
    "\n",
    "\n",
    "df_fa  = df_features_scaled.copy()\n",
    "\n",
    "for column in cat_features:\n",
    "    df_fa[column] = df_z_scaled[column]\n",
    "    \n",
    "for column in excluded:\n",
    "    if column in df_z_scaled.columns:\n",
    "        df_fa[column] = df_z_scaled[column]\n",
    "\n",
    "selected_features = list(select_features(df, df_fa, excluded=excluded, cat_features=cat_features,threshold = 0.8))\n",
    "\n",
    "selected_cont_features = [feature for feature in selected_features if feature not in excluded and feature not in cat_features]\n",
    "    \n",
    "    \n"
   ]
  },
  {
   "cell_type": "code",
   "execution_count": 3,
   "id": "fae17eae",
   "metadata": {},
   "outputs": [
    {
     "name": "stdout",
     "output_type": "stream",
     "text": [
      "N Selected Features: 46\n",
      "Feature Coefficients: [ 0.          0.          0.         -8.606428    7.181197   -0.\n",
      " -0.08898515 -0.          0.         -0.         -0.          0.\n",
      "  0.          0.         -0.         -0.         -0.          0.\n",
      "  0.         -0.53192276  0.72248083  0.         -0.         -0.20087047\n",
      " -0.          0.         -0.          0.          0.          0.\n",
      "  0.         -0.         -0.         -0.          0.         -0.\n",
      " -0.          0.          0.13000391  0.07124181 -0.          0.\n",
      " -0.         -0.         -0.          0.         -0.         -0.\n",
      " -0.0999706  -0.         -0.         -0.         -0.          0.\n",
      "  0.         -0.          0.40716684 -0.         -0.         -0.\n",
      " -0.          0.          0.          0.          0.         -0.\n",
      "  0.          0.          0.          0.         -0.          0.\n",
      "  0.05206358 -0.          0.         -0.          0.          0.\n",
      " -0.         -0.          0.          0.          0.          0.\n",
      "  0.         -0.07211427  0.         -0.         -0.469394   -0.\n",
      "  0.          0.          0.         -0.         -0.         -0.\n",
      " -0.43793437  0.03178169 -0.5493588  -0.          0.         -0.\n",
      "  0.          0.          0.          0.          0.          0.\n",
      " -0.         -0.          0.          0.03615562  0.          0.\n",
      " -0.         -0.06242928  0.          0.          0.          0.\n",
      " -0.          0.          0.         -0.         -0.          0.\n",
      "  0.         -0.         -0.          0.         -0.         -0.\n",
      " -0.         -0.          0.         -0.          0.         -0.41131213\n",
      "  0.          0.         -0.          0.          0.         -0.\n",
      " -0.          0.         -0.         -0.          0.         -0.\n",
      "  0.08980804  0.         -0.          0.          0.          0.\n",
      " -0.          0.         -0.         -0.          0.         -0.\n",
      "  0.          0.          0.         -0.         -0.          0.\n",
      "  0.          0.          0.06285978  0.          0.          0.\n",
      " -0.          0.          0.03356266 -0.         -0.05954313  0.07094009\n",
      "  0.          0.         -0.         -0.          0.          0.\n",
      "  0.         -0.         -0.         -0.          0.          0.\n",
      "  0.          0.          0.         -0.         -0.          0.17224672\n",
      " -0.         -0.         -0.          0.          0.          0.\n",
      "  0.         -0.         -0.         -0.          0.          0.\n",
      " -0.33333966 -0.         -0.          0.          0.         -0.\n",
      " -0.          0.          0.          0.          0.          0.\n",
      "  0.         -0.          0.          0.         -0.369885   -0.\n",
      " -0.         -0.04327494 -0.4349146  -0.          0.         -0.\n",
      "  0.          0.         -0.         -0.         -0.          0.07129377\n",
      "  0.         -0.          0.          0.          0.         -0.\n",
      " -0.          0.          0.          0.          0.         -0.3557611\n",
      "  0.          0.          0.          0.          0.         -0.\n",
      " -0.07788771 -0.          0.         -0.          0.          0.\n",
      "  0.          0.2524692   0.          0.          0.          0.7419874\n",
      " -0.         -0.          0.         -0.          0.          0.41994804\n",
      " -0.         -0.         -0.          0.         -0.          0.\n",
      "  0.4044392  -0.         -0.          0.36458698 -0.          0.\n",
      " -0.31990063 -0.         -0.         -0.          0.          0.04321263\n",
      "  0.          0.         -0.          0.20179269  0.          0.\n",
      "  0.          0.          0.          0.          0.         -0.\n",
      " -0.          0.          0.14509517 -0.         -0.         -0.\n",
      "  0.5992137   0.         -0.          0.         -0.         -0.\n",
      "  0.         -0.          0.         -0.         -0.         -0.\n",
      "  0.         -0.          0.02719676  0.         -0.         -0.\n",
      "  0.         -0.         -0.          0.         -0.         -0.\n",
      " -0.07237941 -0.          0.          0.          0.          0.\n",
      "  0.          0.         -0.          0.         -0.          0.\n",
      "  0.         -0.         -0.          0.          0.         -0.\n",
      " -0.7244172  -0.         -0.         -0.          0.          0.07111213\n",
      "  0.         -0.         -0.         -0.          0.          0.        ]\n"
     ]
    }
   ],
   "source": [
    "# Lasso method\n",
    "\n",
    "df_fa['spread'] = (df['spread'] - df['spread'].mean())/df['spread'].std()\n",
    "\n",
    "df_fa.head()\n",
    "        \n",
    "train_df = df_fa.query(\"2015 < year < 2023\")\n",
    "cont_features = [c for c in df_fa.columns if c not in cat_features and c not in excluded[0:] and c in selected_features] #Spread out \n",
    "splits = RandomSplitter(valid_pct=0.2)(range_of(train_df))\n",
    "to = TabularPandas(train_df, procs=[Categorify, Normalize],\n",
    "                    y_names=\"margin\",\n",
    "                    cat_names = cat_features,\n",
    "                    cont_names = cont_features,\n",
    "                   splits=splits)\n",
    "\n",
    "X_train, y_train = to.train.xs, to.train.ys.values.ravel()\n",
    "X_test, y_test = to.valid.xs, to.valid.ys.values.ravel()\n",
    "lasso_cv = LassoCV(cv=5,max_iter=int(1e6)).fit(X_train, y_train)\n",
    "sfm = SelectFromModel(lasso_cv, prefit=True) \n",
    "selected_feature_indices = np.where(sfm.get_support())[0] \n",
    "selected_features_2 = list(X_train.columns[selected_feature_indices])\n",
    "coefficients = lasso_cv.coef_ \n",
    "print(\"N Selected Features:\", len(selected_features_2))\n",
    "print(\"Feature Coefficients:\", coefficients) \n",
    "excluded_2 = [cont_features[i] for i in range(len(cont_features)) if cont_features[i] not in selected_features_2]\n"
   ]
  },
  {
   "cell_type": "code",
   "execution_count": 5,
   "id": "a0bf159d",
   "metadata": {
    "scrolled": true
   },
   "outputs": [
    {
     "name": "stdout",
     "output_type": "stream",
     "text": [
      "      home_elo  away_elo  home_rushingTDs  home_passesIntercepted  \\\n",
      "6622  0.530506  0.571797        -0.660581                0.746001   \n",
      "3506 -0.061634 -0.262768        -0.462485                1.355397   \n",
      "7805 -0.503655  2.647828         0.149811                0.709067   \n",
      "4082 -0.161714  1.040980         1.178880               -0.530831   \n",
      "6739  0.301156  1.057588         1.037383               -0.530831   \n",
      "...        ...       ...              ...                     ...   \n",
      "4560  1.660576  0.148286         2.971176                1.693951   \n",
      "5518  1.794016 -1.001835         1.320377               -0.563074   \n",
      "4685  1.360336  0.073549        -0.066293                1.152265   \n",
      "4589 -0.182564  0.467995         0.825138                0.339736   \n",
      "4032 -1.074945 -1.363065        -0.825661                0.001182   \n",
      "\n",
      "      home_thirdDowns  home_defense_plays_perDrive  \\\n",
      "6622        -0.027161                     0.062037   \n",
      "3506         0.208589                     0.623811   \n",
      "7805         0.144293                     0.591120   \n",
      "4082         0.695397                    -0.035006   \n",
      "6739         0.205527                     0.323536   \n",
      "...               ...                          ...   \n",
      "4560         0.144293                    -0.361651   \n",
      "5518         0.310985                     0.240307   \n",
      "4685         0.530066                    -0.215954   \n",
      "4589         0.251452                     0.541004   \n",
      "4032         0.537210                     0.351279   \n",
      "\n",
      "      home_defense_rushingPlays_rate  \\\n",
      "6622                       -0.327780   \n",
      "3506                        1.116573   \n",
      "7805                        0.760844   \n",
      "4082                        0.359886   \n",
      "6739                        0.462229   \n",
      "...                              ...   \n",
      "4560                       -0.585548   \n",
      "5518                       -0.033535   \n",
      "4685                        0.164856   \n",
      "4589                        0.217899   \n",
      "4032                        0.387540   \n",
      "\n",
      "      home_defense_rushingPlays_totalPPA_perDrive  home_offense_lineYards  \\\n",
      "6622                                     0.367398                0.351010   \n",
      "3506                                    -0.017268               -0.282609   \n",
      "7805                                     1.527077                0.793133   \n",
      "4082                                    -0.976361                0.044641   \n",
      "6739                                     0.526048                0.755780   \n",
      "...                                           ...                     ...   \n",
      "4560                                    -1.856485                0.466075   \n",
      "5518                                    -0.951264                0.531496   \n",
      "4685                                    -0.985758                0.306132   \n",
      "4589                                    -1.003736                0.720286   \n",
      "4032                                    -0.142503                0.154068   \n",
      "\n",
      "      home_offense_passingDowns_rate  ...  \\\n",
      "6622                       -0.343266  ...   \n",
      "3506                        0.735844  ...   \n",
      "7805                        0.400417  ...   \n",
      "4082                        0.126499  ...   \n",
      "6739                        0.141181  ...   \n",
      "...                              ...  ...   \n",
      "4560                       -0.347120  ...   \n",
      "5518                        0.233208  ...   \n",
      "4685                        0.217419  ...   \n",
      "4589                        0.192293  ...   \n",
      "4032                        0.415183  ...   \n",
      "\n",
      "      home_offense_passingDowns_rate_lastThree  \\\n",
      "6622                                 -0.142054   \n",
      "3506                                  0.600998   \n",
      "7805                                  0.415774   \n",
      "4082                                  0.231398   \n",
      "6739                                  0.380862   \n",
      "...                                        ...   \n",
      "4560                                 -0.452919   \n",
      "5518                                 -0.438160   \n",
      "4685                                  0.720685   \n",
      "4589                                 -0.019102   \n",
      "4032                                  0.262287   \n",
      "\n",
      "      home_offense_passingDowns_explosiveness_lastThree  \\\n",
      "6622                                          -0.023170   \n",
      "3506                                           0.028571   \n",
      "7805                                           0.824332   \n",
      "4082                                           0.581933   \n",
      "6739                                           0.721580   \n",
      "...                                                 ...   \n",
      "4560                                           0.077565   \n",
      "5518                                           0.175207   \n",
      "4685                                           0.022999   \n",
      "4589                                          -0.195323   \n",
      "4032                                           0.773938   \n",
      "\n",
      "      away_rushingTDs_lastThree  away_firstDowns_lastThree  \\\n",
      "6622                   0.053667                   0.739305   \n",
      "3506                  -0.237027                   0.131544   \n",
      "7805                   0.635054                   0.739305   \n",
      "4082                   0.053667                   0.435425   \n",
      "6739                   1.216441                   0.609070   \n",
      "...                         ...                        ...   \n",
      "4560                  -0.091680                   0.370307   \n",
      "5518                  -1.399800                  -0.932036   \n",
      "4685                   0.635054                   0.478836   \n",
      "4589                   0.053667                   0.739305   \n",
      "4032                   0.053667                   0.912951   \n",
      "\n",
      "      away_passesIntercepted_lastThree  away_netPassingYards_lastThree  \\\n",
      "6622                         -0.873861                        0.390219   \n",
      "3506                         -0.873861                       -0.250621   \n",
      "7805                          0.173846                        0.836164   \n",
      "4082                          0.173846                        0.565293   \n",
      "6739                         -0.350008                        0.538867   \n",
      "...                                ...                             ...   \n",
      "4560                         -0.611935                       -0.632152   \n",
      "5518                          0.959626                       -0.592513   \n",
      "4685                         -0.873861                        0.053282   \n",
      "4589                          0.697699                        0.307636   \n",
      "4032                          0.173846                        0.994722   \n",
      "\n",
      "      away_defense_havoc_total_lastThree  \\\n",
      "6622                            0.002347   \n",
      "3506                           -0.015771   \n",
      "7805                           -0.371182   \n",
      "4082                            0.235902   \n",
      "6739                            0.440103   \n",
      "...                                  ...   \n",
      "4560                            1.280288   \n",
      "5518                            0.900898   \n",
      "4685                            0.593494   \n",
      "4589                            0.108276   \n",
      "4032                           -0.158073   \n",
      "\n",
      "      away_defense_rushingPlays_explosiveness_lastThree  \\\n",
      "6622                                           1.208105   \n",
      "3506                                          -0.596733   \n",
      "7805                                           0.843386   \n",
      "4082                                           1.206802   \n",
      "6739                                           0.273548   \n",
      "...                                                 ...   \n",
      "4560                                           0.385795   \n",
      "5518                                          -0.624678   \n",
      "4685                                          -0.367559   \n",
      "4589                                           0.994165   \n",
      "4032                                           1.115689   \n",
      "\n",
      "      away_offense_havoc_total_lastThree  \\\n",
      "6622                            0.042263   \n",
      "3506                           -0.652182   \n",
      "7805                           -0.638544   \n",
      "4082                           -0.034968   \n",
      "6739                           -0.321640   \n",
      "...                                  ...   \n",
      "4560                            1.416786   \n",
      "5518                            0.849975   \n",
      "4685                            1.170170   \n",
      "4589                            1.633209   \n",
      "4032                            0.637589   \n",
      "\n",
      "      away_offense_passingDowns_successRate_lastThree  \n",
      "6622                                        -0.348423  \n",
      "3506                                        -0.432599  \n",
      "7805                                         1.159378  \n",
      "4082                                         0.664336  \n",
      "6739                                         1.007258  \n",
      "...                                               ...  \n",
      "4560                                         0.379001  \n",
      "5518                                        -0.641578  \n",
      "4685                                         0.128576  \n",
      "4589                                         0.490854  \n",
      "4032                                         0.526075  \n",
      "\n",
      "[1883 rows x 46 columns]\n"
     ]
    },
    {
     "data": {
      "text/html": [
       "<table border=\"1\" class=\"dataframe\">\n",
       "  <thead>\n",
       "    <tr style=\"text-align: right;\">\n",
       "      <th></th>\n",
       "      <th>home_conference</th>\n",
       "      <th>away_conference</th>\n",
       "      <th>neutral_site</th>\n",
       "      <th>home_elo</th>\n",
       "      <th>away_elo</th>\n",
       "      <th>home_rushingTDs</th>\n",
       "      <th>home_passesIntercepted</th>\n",
       "      <th>home_thirdDowns</th>\n",
       "      <th>home_defense_plays_perDrive</th>\n",
       "      <th>home_defense_rushingPlays_rate</th>\n",
       "      <th>home_defense_rushingPlays_totalPPA_perDrive</th>\n",
       "      <th>home_offense_lineYards</th>\n",
       "      <th>home_offense_passingDowns_rate</th>\n",
       "      <th>away_tacklesForLoss</th>\n",
       "      <th>away_defense_powerSuccess</th>\n",
       "      <th>away_defense_openFieldYardsTotal</th>\n",
       "      <th>away_defense_passingDowns_successRate</th>\n",
       "      <th>away_defense_passingDowns_explosiveness</th>\n",
       "      <th>away_defense_rushingPlays_successRate</th>\n",
       "      <th>away_offense_totalOpportunies_perDrive</th>\n",
       "      <th>away_offense_havoc_db</th>\n",
       "      <th>home_thirdDowns_lastSeason</th>\n",
       "      <th>home_defense_havoc_total_lastSeason</th>\n",
       "      <th>home_offense_havoc_total_lastSeason</th>\n",
       "      <th>home_offense_passingPlays_explosiveness_lastSeason</th>\n",
       "      <th>away_puntReturnTDs_lastSeason</th>\n",
       "      <th>away_sacks_lastSeason</th>\n",
       "      <th>away_defense_powerSuccess_lastSeason</th>\n",
       "      <th>away_defense_passingPlays_explosiveness_lastSeason</th>\n",
       "      <th>away_offense_passingPlays_explosiveness_lastSeason</th>\n",
       "      <th>home_puntReturnTDs_lastThree</th>\n",
       "      <th>home_sacks_lastThree</th>\n",
       "      <th>home_kickReturns_lastThree</th>\n",
       "      <th>home_defense_stuffRate_lastThree</th>\n",
       "      <th>home_defense_havoc_total_lastThree</th>\n",
       "      <th>home_defense_rushingPlays_rate_lastThree</th>\n",
       "      <th>home_defense_passingPlays_explosiveness_lastThree</th>\n",
       "      <th>home_offense_stuffRate_lastThree</th>\n",
       "      <th>home_offense_havoc_db_lastThree</th>\n",
       "      <th>home_offense_passingDowns_rate_lastThree</th>\n",
       "      <th>home_offense_passingDowns_explosiveness_lastThree</th>\n",
       "      <th>away_rushingTDs_lastThree</th>\n",
       "      <th>away_firstDowns_lastThree</th>\n",
       "      <th>away_passesIntercepted_lastThree</th>\n",
       "      <th>away_netPassingYards_lastThree</th>\n",
       "      <th>away_defense_havoc_total_lastThree</th>\n",
       "      <th>away_defense_rushingPlays_explosiveness_lastThree</th>\n",
       "      <th>away_offense_havoc_total_lastThree</th>\n",
       "      <th>away_offense_passingDowns_successRate_lastThree</th>\n",
       "      <th>margin</th>\n",
       "    </tr>\n",
       "  </thead>\n",
       "  <tbody>\n",
       "    <tr>\n",
       "      <th>0</th>\n",
       "      <td>SEC</td>\n",
       "      <td>SEC</td>\n",
       "      <td>False</td>\n",
       "      <td>0.134356</td>\n",
       "      <td>0.301912</td>\n",
       "      <td>0.990218</td>\n",
       "      <td>0.339736</td>\n",
       "      <td>-0.212904</td>\n",
       "      <td>1.187086</td>\n",
       "      <td>0.696778</td>\n",
       "      <td>1.645455</td>\n",
       "      <td>0.821365</td>\n",
       "      <td>0.387575</td>\n",
       "      <td>-0.206834</td>\n",
       "      <td>0.020286</td>\n",
       "      <td>-0.085048</td>\n",
       "      <td>0.543602</td>\n",
       "      <td>0.518108</td>\n",
       "      <td>0.385039</td>\n",
       "      <td>0.276382</td>\n",
       "      <td>-0.681155</td>\n",
       "      <td>-0.207790</td>\n",
       "      <td>-0.183241</td>\n",
       "      <td>-0.044372</td>\n",
       "      <td>-0.113988</td>\n",
       "      <td>-0.612874</td>\n",
       "      <td>1.056469</td>\n",
       "      <td>0.139472</td>\n",
       "      <td>0.267296</td>\n",
       "      <td>0.007035</td>\n",
       "      <td>-0.279685</td>\n",
       "      <td>0.610020</td>\n",
       "      <td>-0.519294</td>\n",
       "      <td>-0.720319</td>\n",
       "      <td>-0.140555</td>\n",
       "      <td>0.513451</td>\n",
       "      <td>0.265956</td>\n",
       "      <td>-0.394360</td>\n",
       "      <td>-0.174530</td>\n",
       "      <td>0.160745</td>\n",
       "      <td>0.507479</td>\n",
       "      <td>0.635054</td>\n",
       "      <td>0.652482</td>\n",
       "      <td>-0.350008</td>\n",
       "      <td>0.565293</td>\n",
       "      <td>0.162162</td>\n",
       "      <td>-0.326526</td>\n",
       "      <td>-0.002717</td>\n",
       "      <td>0.157900</td>\n",
       "      <td>10.0</td>\n",
       "    </tr>\n",
       "    <tr>\n",
       "      <th>1</th>\n",
       "      <td>Conference USA</td>\n",
       "      <td>Conference USA</td>\n",
       "      <td>False</td>\n",
       "      <td>-0.486975</td>\n",
       "      <td>-0.316745</td>\n",
       "      <td>-0.858677</td>\n",
       "      <td>-0.879057</td>\n",
       "      <td>0.101430</td>\n",
       "      <td>0.373668</td>\n",
       "      <td>0.012451</td>\n",
       "      <td>0.422581</td>\n",
       "      <td>-0.261240</td>\n",
       "      <td>0.498613</td>\n",
       "      <td>1.101084</td>\n",
       "      <td>0.394275</td>\n",
       "      <td>1.952214</td>\n",
       "      <td>0.641506</td>\n",
       "      <td>-0.117285</td>\n",
       "      <td>-0.011638</td>\n",
       "      <td>0.860203</td>\n",
       "      <td>0.787897</td>\n",
       "      <td>-0.522558</td>\n",
       "      <td>-0.434971</td>\n",
       "      <td>1.132982</td>\n",
       "      <td>-0.000240</td>\n",
       "      <td>0.746265</td>\n",
       "      <td>0.732553</td>\n",
       "      <td>-0.124124</td>\n",
       "      <td>0.249358</td>\n",
       "      <td>-0.090649</td>\n",
       "      <td>-0.279685</td>\n",
       "      <td>0.268671</td>\n",
       "      <td>1.092518</td>\n",
       "      <td>-0.491438</td>\n",
       "      <td>2.227462</td>\n",
       "      <td>0.188199</td>\n",
       "      <td>1.222775</td>\n",
       "      <td>0.922285</td>\n",
       "      <td>1.042075</td>\n",
       "      <td>0.603601</td>\n",
       "      <td>1.176146</td>\n",
       "      <td>0.344360</td>\n",
       "      <td>0.500542</td>\n",
       "      <td>0.173846</td>\n",
       "      <td>0.755233</td>\n",
       "      <td>-0.023131</td>\n",
       "      <td>1.858008</td>\n",
       "      <td>0.946714</td>\n",
       "      <td>1.045032</td>\n",
       "      <td>-18.0</td>\n",
       "    </tr>\n",
       "    <tr>\n",
       "      <th>2</th>\n",
       "      <td>SEC</td>\n",
       "      <td>SEC</td>\n",
       "      <td>False</td>\n",
       "      <td>-0.182564</td>\n",
       "      <td>0.467995</td>\n",
       "      <td>0.825138</td>\n",
       "      <td>0.339736</td>\n",
       "      <td>0.251452</td>\n",
       "      <td>0.541004</td>\n",
       "      <td>0.217899</td>\n",
       "      <td>-1.003736</td>\n",
       "      <td>0.720286</td>\n",
       "      <td>0.192293</td>\n",
       "      <td>-0.176836</td>\n",
       "      <td>-0.068185</td>\n",
       "      <td>0.670711</td>\n",
       "      <td>1.773876</td>\n",
       "      <td>0.322584</td>\n",
       "      <td>0.285442</td>\n",
       "      <td>0.409564</td>\n",
       "      <td>2.996413</td>\n",
       "      <td>-0.436083</td>\n",
       "      <td>-0.679742</td>\n",
       "      <td>-0.409034</td>\n",
       "      <td>0.748873</td>\n",
       "      <td>0.746265</td>\n",
       "      <td>0.624581</td>\n",
       "      <td>-0.625109</td>\n",
       "      <td>0.005714</td>\n",
       "      <td>-0.500209</td>\n",
       "      <td>-0.279685</td>\n",
       "      <td>0.382454</td>\n",
       "      <td>0.224619</td>\n",
       "      <td>0.711390</td>\n",
       "      <td>0.693578</td>\n",
       "      <td>-0.078723</td>\n",
       "      <td>0.341954</td>\n",
       "      <td>-0.046572</td>\n",
       "      <td>0.245028</td>\n",
       "      <td>-0.019102</td>\n",
       "      <td>-0.195323</td>\n",
       "      <td>0.053667</td>\n",
       "      <td>0.739305</td>\n",
       "      <td>0.697699</td>\n",
       "      <td>0.307636</td>\n",
       "      <td>0.108276</td>\n",
       "      <td>0.994165</td>\n",
       "      <td>1.633209</td>\n",
       "      <td>0.490854</td>\n",
       "      <td>-17.0</td>\n",
       "    </tr>\n",
       "    <tr>\n",
       "      <th>3</th>\n",
       "      <td>Sun Belt</td>\n",
       "      <td>Sun Belt</td>\n",
       "      <td>False</td>\n",
       "      <td>-1.437735</td>\n",
       "      <td>-1.026748</td>\n",
       "      <td>-0.363437</td>\n",
       "      <td>-0.269661</td>\n",
       "      <td>0.165725</td>\n",
       "      <td>0.607353</td>\n",
       "      <td>0.582779</td>\n",
       "      <td>0.753096</td>\n",
       "      <td>0.148233</td>\n",
       "      <td>0.653565</td>\n",
       "      <td>0.363130</td>\n",
       "      <td>-0.364884</td>\n",
       "      <td>1.163596</td>\n",
       "      <td>0.708793</td>\n",
       "      <td>0.845034</td>\n",
       "      <td>-0.088656</td>\n",
       "      <td>-0.062675</td>\n",
       "      <td>0.762052</td>\n",
       "      <td>0.134650</td>\n",
       "      <td>0.182975</td>\n",
       "      <td>2.821020</td>\n",
       "      <td>0.087455</td>\n",
       "      <td>-0.612874</td>\n",
       "      <td>0.516609</td>\n",
       "      <td>0.388084</td>\n",
       "      <td>-0.403438</td>\n",
       "      <td>0.655792</td>\n",
       "      <td>-0.279685</td>\n",
       "      <td>-0.755377</td>\n",
       "      <td>2.456359</td>\n",
       "      <td>-0.773943</td>\n",
       "      <td>-0.828678</td>\n",
       "      <td>1.338291</td>\n",
       "      <td>-0.114998</td>\n",
       "      <td>0.698621</td>\n",
       "      <td>1.587554</td>\n",
       "      <td>0.809607</td>\n",
       "      <td>0.791146</td>\n",
       "      <td>-0.963760</td>\n",
       "      <td>0.500542</td>\n",
       "      <td>-0.611935</td>\n",
       "      <td>0.378657</td>\n",
       "      <td>-0.371182</td>\n",
       "      <td>0.006030</td>\n",
       "      <td>0.146445</td>\n",
       "      <td>-0.062673</td>\n",
       "      <td>-2.0</td>\n",
       "    </tr>\n",
       "    <tr>\n",
       "      <th>4</th>\n",
       "      <td>FBS Independents</td>\n",
       "      <td>Mid-American</td>\n",
       "      <td>False</td>\n",
       "      <td>-2.117445</td>\n",
       "      <td>-1.844704</td>\n",
       "      <td>-0.165341</td>\n",
       "      <td>0.339736</td>\n",
       "      <td>0.680089</td>\n",
       "      <td>0.309164</td>\n",
       "      <td>0.993630</td>\n",
       "      <td>2.538031</td>\n",
       "      <td>0.140805</td>\n",
       "      <td>0.506521</td>\n",
       "      <td>0.093147</td>\n",
       "      <td>-0.051171</td>\n",
       "      <td>-0.468404</td>\n",
       "      <td>0.959062</td>\n",
       "      <td>0.030898</td>\n",
       "      <td>0.480750</td>\n",
       "      <td>-0.593330</td>\n",
       "      <td>0.108255</td>\n",
       "      <td>-0.359986</td>\n",
       "      <td>-0.890121</td>\n",
       "      <td>0.849917</td>\n",
       "      <td>0.309840</td>\n",
       "      <td>0.746265</td>\n",
       "      <td>-0.455138</td>\n",
       "      <td>0.011143</td>\n",
       "      <td>-0.468695</td>\n",
       "      <td>0.392609</td>\n",
       "      <td>2.203246</td>\n",
       "      <td>-0.527811</td>\n",
       "      <td>3.448243</td>\n",
       "      <td>-0.602166</td>\n",
       "      <td>-0.384324</td>\n",
       "      <td>1.075523</td>\n",
       "      <td>0.239816</td>\n",
       "      <td>0.345023</td>\n",
       "      <td>2.276611</td>\n",
       "      <td>0.507206</td>\n",
       "      <td>1.051903</td>\n",
       "      <td>-1.109107</td>\n",
       "      <td>-0.606450</td>\n",
       "      <td>-0.350008</td>\n",
       "      <td>0.720549</td>\n",
       "      <td>0.301773</td>\n",
       "      <td>-0.069940</td>\n",
       "      <td>1.142859</td>\n",
       "      <td>-0.365874</td>\n",
       "      <td>-8.0</td>\n",
       "    </tr>\n",
       "    <tr>\n",
       "      <th>5</th>\n",
       "      <td>American Athletic</td>\n",
       "      <td>American Athletic</td>\n",
       "      <td>False</td>\n",
       "      <td>-0.632925</td>\n",
       "      <td>-0.922946</td>\n",
       "      <td>-0.330421</td>\n",
       "      <td>-0.337371</td>\n",
       "      <td>0.430051</td>\n",
       "      <td>0.254728</td>\n",
       "      <td>0.185536</td>\n",
       "      <td>-0.182170</td>\n",
       "      <td>0.365842</td>\n",
       "      <td>0.233370</td>\n",
       "      <td>1.173079</td>\n",
       "      <td>0.949226</td>\n",
       "      <td>-0.424591</td>\n",
       "      <td>0.194991</td>\n",
       "      <td>0.506736</td>\n",
       "      <td>0.373196</td>\n",
       "      <td>0.437217</td>\n",
       "      <td>-0.234942</td>\n",
       "      <td>1.123921</td>\n",
       "      <td>2.170265</td>\n",
       "      <td>-0.518775</td>\n",
       "      <td>3.694203</td>\n",
       "      <td>-0.612874</td>\n",
       "      <td>-1.318914</td>\n",
       "      <td>0.016152</td>\n",
       "      <td>-0.371336</td>\n",
       "      <td>0.046388</td>\n",
       "      <td>-0.279685</td>\n",
       "      <td>-0.414027</td>\n",
       "      <td>-0.767265</td>\n",
       "      <td>1.423314</td>\n",
       "      <td>0.096531</td>\n",
       "      <td>-0.061755</td>\n",
       "      <td>-0.162836</td>\n",
       "      <td>-0.368551</td>\n",
       "      <td>-1.181800</td>\n",
       "      <td>0.573111</td>\n",
       "      <td>-0.039788</td>\n",
       "      <td>0.053667</td>\n",
       "      <td>0.305190</td>\n",
       "      <td>0.173846</td>\n",
       "      <td>0.423252</td>\n",
       "      <td>0.697606</td>\n",
       "      <td>0.654256</td>\n",
       "      <td>0.437001</td>\n",
       "      <td>0.102652</td>\n",
       "      <td>14.0</td>\n",
       "    </tr>\n",
       "    <tr>\n",
       "      <th>6</th>\n",
       "      <td>American Athletic</td>\n",
       "      <td>American Athletic</td>\n",
       "      <td>False</td>\n",
       "      <td>0.301156</td>\n",
       "      <td>0.771096</td>\n",
       "      <td>1.122282</td>\n",
       "      <td>0.746001</td>\n",
       "      <td>0.615793</td>\n",
       "      <td>0.603291</td>\n",
       "      <td>0.500176</td>\n",
       "      <td>0.564453</td>\n",
       "      <td>0.385024</td>\n",
       "      <td>0.260359</td>\n",
       "      <td>0.933094</td>\n",
       "      <td>0.683815</td>\n",
       "      <td>0.681664</td>\n",
       "      <td>-0.047733</td>\n",
       "      <td>0.385909</td>\n",
       "      <td>-0.402273</td>\n",
       "      <td>0.805559</td>\n",
       "      <td>0.670646</td>\n",
       "      <td>1.123921</td>\n",
       "      <td>2.464535</td>\n",
       "      <td>0.284593</td>\n",
       "      <td>0.686558</td>\n",
       "      <td>-0.612874</td>\n",
       "      <td>1.255802</td>\n",
       "      <td>0.026665</td>\n",
       "      <td>0.124122</td>\n",
       "      <td>0.010889</td>\n",
       "      <td>-0.279685</td>\n",
       "      <td>1.292718</td>\n",
       "      <td>0.348604</td>\n",
       "      <td>0.139569</td>\n",
       "      <td>-0.020418</td>\n",
       "      <td>0.329529</td>\n",
       "      <td>0.539283</td>\n",
       "      <td>0.722671</td>\n",
       "      <td>0.719823</td>\n",
       "      <td>0.720685</td>\n",
       "      <td>1.737526</td>\n",
       "      <td>-0.527720</td>\n",
       "      <td>0.435425</td>\n",
       "      <td>6.460087</td>\n",
       "      <td>-0.656927</td>\n",
       "      <td>0.811942</td>\n",
       "      <td>0.263437</td>\n",
       "      <td>-0.297922</td>\n",
       "      <td>-0.103298</td>\n",
       "      <td>29.0</td>\n",
       "    </tr>\n",
       "    <tr>\n",
       "      <th>7</th>\n",
       "      <td>American Athletic</td>\n",
       "      <td>American Athletic</td>\n",
       "      <td>False</td>\n",
       "      <td>1.164346</td>\n",
       "      <td>0.675598</td>\n",
       "      <td>0.577518</td>\n",
       "      <td>-0.168094</td>\n",
       "      <td>0.215733</td>\n",
       "      <td>0.498984</td>\n",
       "      <td>0.564843</td>\n",
       "      <td>0.366023</td>\n",
       "      <td>0.199959</td>\n",
       "      <td>0.306775</td>\n",
       "      <td>0.903096</td>\n",
       "      <td>0.342571</td>\n",
       "      <td>0.053690</td>\n",
       "      <td>0.085865</td>\n",
       "      <td>0.052529</td>\n",
       "      <td>0.336853</td>\n",
       "      <td>0.219383</td>\n",
       "      <td>0.618800</td>\n",
       "      <td>-0.222424</td>\n",
       "      <td>0.160230</td>\n",
       "      <td>-0.598591</td>\n",
       "      <td>0.692454</td>\n",
       "      <td>-0.612874</td>\n",
       "      <td>0.408637</td>\n",
       "      <td>-1.445328</td>\n",
       "      <td>0.618864</td>\n",
       "      <td>0.393770</td>\n",
       "      <td>-0.279685</td>\n",
       "      <td>1.292718</td>\n",
       "      <td>0.472590</td>\n",
       "      <td>0.798865</td>\n",
       "      <td>0.996688</td>\n",
       "      <td>0.404583</td>\n",
       "      <td>0.348251</td>\n",
       "      <td>0.154074</td>\n",
       "      <td>-0.359021</td>\n",
       "      <td>-0.298018</td>\n",
       "      <td>0.654684</td>\n",
       "      <td>0.053667</td>\n",
       "      <td>-0.302570</td>\n",
       "      <td>-0.350008</td>\n",
       "      <td>-0.855125</td>\n",
       "      <td>-0.307998</td>\n",
       "      <td>-0.545526</td>\n",
       "      <td>1.337713</td>\n",
       "      <td>-0.268923</td>\n",
       "      <td>-5.0</td>\n",
       "    </tr>\n",
       "    <tr>\n",
       "      <th>8</th>\n",
       "      <td>Sun Belt</td>\n",
       "      <td>Sun Belt</td>\n",
       "      <td>False</td>\n",
       "      <td>-0.737175</td>\n",
       "      <td>-0.080077</td>\n",
       "      <td>-0.330421</td>\n",
       "      <td>-0.337371</td>\n",
       "      <td>-0.212904</td>\n",
       "      <td>0.623337</td>\n",
       "      <td>0.025999</td>\n",
       "      <td>-0.535091</td>\n",
       "      <td>-0.042444</td>\n",
       "      <td>0.794546</td>\n",
       "      <td>-0.356824</td>\n",
       "      <td>0.867561</td>\n",
       "      <td>-0.052189</td>\n",
       "      <td>0.158389</td>\n",
       "      <td>-0.577802</td>\n",
       "      <td>1.240095</td>\n",
       "      <td>1.267948</td>\n",
       "      <td>0.606484</td>\n",
       "      <td>-1.349257</td>\n",
       "      <td>0.114380</td>\n",
       "      <td>-1.157575</td>\n",
       "      <td>2.281738</td>\n",
       "      <td>-0.612874</td>\n",
       "      <td>-0.438527</td>\n",
       "      <td>0.758666</td>\n",
       "      <td>0.548852</td>\n",
       "      <td>1.037910</td>\n",
       "      <td>-0.279685</td>\n",
       "      <td>0.951369</td>\n",
       "      <td>-0.023352</td>\n",
       "      <td>0.656018</td>\n",
       "      <td>1.337861</td>\n",
       "      <td>0.028210</td>\n",
       "      <td>0.966494</td>\n",
       "      <td>0.265020</td>\n",
       "      <td>-0.236703</td>\n",
       "      <td>0.392022</td>\n",
       "      <td>1.311518</td>\n",
       "      <td>2.960601</td>\n",
       "      <td>1.260242</td>\n",
       "      <td>0.697699</td>\n",
       "      <td>0.231660</td>\n",
       "      <td>1.660328</td>\n",
       "      <td>-0.209600</td>\n",
       "      <td>0.492735</td>\n",
       "      <td>0.749161</td>\n",
       "      <td>13.0</td>\n",
       "    </tr>\n",
       "    <tr>\n",
       "      <th>9</th>\n",
       "      <td>Mid-American</td>\n",
       "      <td>Mid-American</td>\n",
       "      <td>False</td>\n",
       "      <td>-0.320174</td>\n",
       "      <td>-0.316745</td>\n",
       "      <td>-0.264389</td>\n",
       "      <td>0.136604</td>\n",
       "      <td>0.337180</td>\n",
       "      <td>0.661521</td>\n",
       "      <td>0.560740</td>\n",
       "      <td>0.769892</td>\n",
       "      <td>0.412225</td>\n",
       "      <td>0.411264</td>\n",
       "      <td>0.489122</td>\n",
       "      <td>0.584285</td>\n",
       "      <td>-0.023711</td>\n",
       "      <td>0.076007</td>\n",
       "      <td>0.567534</td>\n",
       "      <td>0.369638</td>\n",
       "      <td>0.786700</td>\n",
       "      <td>0.433537</td>\n",
       "      <td>0.362943</td>\n",
       "      <td>1.885180</td>\n",
       "      <td>0.035690</td>\n",
       "      <td>-0.509415</td>\n",
       "      <td>-0.612874</td>\n",
       "      <td>1.272413</td>\n",
       "      <td>-0.716718</td>\n",
       "      <td>1.850595</td>\n",
       "      <td>-0.373527</td>\n",
       "      <td>-0.279685</td>\n",
       "      <td>-0.414027</td>\n",
       "      <td>0.348604</td>\n",
       "      <td>-0.130460</td>\n",
       "      <td>-0.733247</td>\n",
       "      <td>0.251885</td>\n",
       "      <td>0.153695</td>\n",
       "      <td>-0.381076</td>\n",
       "      <td>0.518088</td>\n",
       "      <td>0.478512</td>\n",
       "      <td>0.366881</td>\n",
       "      <td>1.216441</td>\n",
       "      <td>0.826128</td>\n",
       "      <td>-0.611935</td>\n",
       "      <td>0.527306</td>\n",
       "      <td>-0.030952</td>\n",
       "      <td>-0.049851</td>\n",
       "      <td>0.117702</td>\n",
       "      <td>0.935265</td>\n",
       "      <td>20.0</td>\n",
       "    </tr>\n",
       "  </tbody>\n",
       "</table>"
      ],
      "text/plain": [
       "<IPython.core.display.HTML object>"
      ]
     },
     "metadata": {},
     "output_type": "display_data"
    },
    {
     "name": "stdout",
     "output_type": "stream",
     "text": [
      "|   iter    |  target   |    dp     |  layer_1  |  layer_2  |  layer_3  |    lr     | n_layers  | num_steps |    wd     |\n",
      "-------------------------------------------------------------------------------------------------------------------------\n",
      "0.014684121522803134 0.17304213923070666 0.21434078230426126\n"
     ]
    },
    {
     "data": {
      "text/html": [
       "\n",
       "<style>\n",
       "    /* Turns off some styling */\n",
       "    progress {\n",
       "        /* gets rid of default border in Firefox and Opera. */\n",
       "        border: none;\n",
       "        /* Needs to be in here for Safari polyfill so background images work as expected. */\n",
       "        background-size: auto;\n",
       "    }\n",
       "    progress:not([value]), progress:not([value])::-webkit-progress-bar {\n",
       "        background: repeating-linear-gradient(45deg, #7e7e7e, #7e7e7e 10px, #5c5c5c 10px, #5c5c5c 20px);\n",
       "    }\n",
       "    .progress-bar-interrupted, .progress-bar-interrupted::-webkit-progress-bar {\n",
       "        background: #F44336;\n",
       "    }\n",
       "</style>\n"
      ],
      "text/plain": [
       "<IPython.core.display.HTML object>"
      ]
     },
     "metadata": {},
     "output_type": "display_data"
    },
    {
     "data": {
      "text/html": [],
      "text/plain": [
       "<IPython.core.display.HTML object>"
      ]
     },
     "metadata": {},
     "output_type": "display_data"
    },
    {
     "data": {
      "text/html": [
       "\n",
       "<style>\n",
       "    /* Turns off some styling */\n",
       "    progress {\n",
       "        /* gets rid of default border in Firefox and Opera. */\n",
       "        border: none;\n",
       "        /* Needs to be in here for Safari polyfill so background images work as expected. */\n",
       "        background-size: auto;\n",
       "    }\n",
       "    progress:not([value]), progress:not([value])::-webkit-progress-bar {\n",
       "        background: repeating-linear-gradient(45deg, #7e7e7e, #7e7e7e 10px, #5c5c5c 10px, #5c5c5c 20px);\n",
       "    }\n",
       "    .progress-bar-interrupted, .progress-bar-interrupted::-webkit-progress-bar {\n",
       "        background: #F44336;\n",
       "    }\n",
       "</style>\n"
      ],
      "text/plain": [
       "<IPython.core.display.HTML object>"
      ]
     },
     "metadata": {},
     "output_type": "display_data"
    },
    {
     "data": {
      "text/html": [],
      "text/plain": [
       "<IPython.core.display.HTML object>"
      ]
     },
     "metadata": {},
     "output_type": "display_data"
    },
    {
     "name": "stdout",
     "output_type": "stream",
     "text": [
      "| \u001b[0m1        \u001b[0m | \u001b[0m-13.77   \u001b[0m | \u001b[0m0.2143   \u001b[0m | \u001b[0m145.5    \u001b[0m | \u001b[0m5.011    \u001b[0m | \u001b[0m61.16    \u001b[0m | \u001b[0m0.01468  \u001b[0m | \u001b[0m1.185    \u001b[0m | \u001b[0m13.38    \u001b[0m | \u001b[0m0.173    \u001b[0m |\n",
      "0.02045318045065443 0.33536556808512974 0.20441606237302828\n"
     ]
    },
    {
     "data": {
      "text/html": [
       "\n",
       "<style>\n",
       "    /* Turns off some styling */\n",
       "    progress {\n",
       "        /* gets rid of default border in Firefox and Opera. */\n",
       "        border: none;\n",
       "        /* Needs to be in here for Safari polyfill so background images work as expected. */\n",
       "        background-size: auto;\n",
       "    }\n",
       "    progress:not([value]), progress:not([value])::-webkit-progress-bar {\n",
       "        background: repeating-linear-gradient(45deg, #7e7e7e, #7e7e7e 10px, #5c5c5c 10px, #5c5c5c 20px);\n",
       "    }\n",
       "    .progress-bar-interrupted, .progress-bar-interrupted::-webkit-progress-bar {\n",
       "        background: #F44336;\n",
       "    }\n",
       "</style>\n"
      ],
      "text/plain": [
       "<IPython.core.display.HTML object>"
      ]
     },
     "metadata": {},
     "output_type": "display_data"
    },
    {
     "data": {
      "text/html": [],
      "text/plain": [
       "<IPython.core.display.HTML object>"
      ]
     },
     "metadata": {},
     "output_type": "display_data"
    },
    {
     "data": {
      "text/html": [
       "\n",
       "<style>\n",
       "    /* Turns off some styling */\n",
       "    progress {\n",
       "        /* gets rid of default border in Firefox and Opera. */\n",
       "        border: none;\n",
       "        /* Needs to be in here for Safari polyfill so background images work as expected. */\n",
       "        background-size: auto;\n",
       "    }\n",
       "    progress:not([value]), progress:not([value])::-webkit-progress-bar {\n",
       "        background: repeating-linear-gradient(45deg, #7e7e7e, #7e7e7e 10px, #5c5c5c 10px, #5c5c5c 20px);\n",
       "    }\n",
       "    .progress-bar-interrupted, .progress-bar-interrupted::-webkit-progress-bar {\n",
       "        background: #F44336;\n",
       "    }\n",
       "</style>\n"
      ],
      "text/plain": [
       "<IPython.core.display.HTML object>"
      ]
     },
     "metadata": {},
     "output_type": "display_data"
    },
    {
     "data": {
      "text/html": [],
      "text/plain": [
       "<IPython.core.display.HTML object>"
      ]
     },
     "metadata": {},
     "output_type": "display_data"
    },
    {
     "name": "stdout",
     "output_type": "stream",
     "text": [
      "| \u001b[95m2        \u001b[0m | \u001b[95m-12.94   \u001b[0m | \u001b[95m0.2044   \u001b[0m | \u001b[95m110.1    \u001b[0m | \u001b[95m44.82    \u001b[0m | \u001b[95m137.4    \u001b[0m | \u001b[95m0.02045  \u001b[0m | \u001b[95m2.756    \u001b[0m | \u001b[95m6.232    \u001b[0m | \u001b[95m0.3354   \u001b[0m |\n",
      "0.08007644942186691 0.3462843787883893 0.21447935315989222\n"
     ]
    },
    {
     "data": {
      "text/html": [
       "\n",
       "<style>\n",
       "    /* Turns off some styling */\n",
       "    progress {\n",
       "        /* gets rid of default border in Firefox and Opera. */\n",
       "        border: none;\n",
       "        /* Needs to be in here for Safari polyfill so background images work as expected. */\n",
       "        background-size: auto;\n",
       "    }\n",
       "    progress:not([value]), progress:not([value])::-webkit-progress-bar {\n",
       "        background: repeating-linear-gradient(45deg, #7e7e7e, #7e7e7e 10px, #5c5c5c 10px, #5c5c5c 20px);\n",
       "    }\n",
       "    .progress-bar-interrupted, .progress-bar-interrupted::-webkit-progress-bar {\n",
       "        background: #F44336;\n",
       "    }\n",
       "</style>\n"
      ],
      "text/plain": [
       "<IPython.core.display.HTML object>"
      ]
     },
     "metadata": {},
     "output_type": "display_data"
    },
    {
     "data": {
      "text/html": [],
      "text/plain": [
       "<IPython.core.display.HTML object>"
      ]
     },
     "metadata": {},
     "output_type": "display_data"
    },
    {
     "data": {
      "text/html": [
       "\n",
       "<style>\n",
       "    /* Turns off some styling */\n",
       "    progress {\n",
       "        /* gets rid of default border in Firefox and Opera. */\n",
       "        border: none;\n",
       "        /* Needs to be in here for Safari polyfill so background images work as expected. */\n",
       "        background-size: auto;\n",
       "    }\n",
       "    progress:not([value]), progress:not([value])::-webkit-progress-bar {\n",
       "        background: repeating-linear-gradient(45deg, #7e7e7e, #7e7e7e 10px, #5c5c5c 10px, #5c5c5c 20px);\n",
       "    }\n",
       "    .progress-bar-interrupted, .progress-bar-interrupted::-webkit-progress-bar {\n",
       "        background: #F44336;\n",
       "    }\n",
       "</style>\n"
      ],
      "text/plain": [
       "<IPython.core.display.HTML object>"
      ]
     },
     "metadata": {},
     "output_type": "display_data"
    },
    {
     "data": {
      "text/html": [],
      "text/plain": [
       "<IPython.core.display.HTML object>"
      ]
     },
     "metadata": {},
     "output_type": "display_data"
    },
    {
     "name": "stdout",
     "output_type": "stream",
     "text": [
      "| \u001b[0m3        \u001b[0m | \u001b[0m-13.51   \u001b[0m | \u001b[0m0.2145   \u001b[0m | \u001b[0m113.9    \u001b[0m | \u001b[0m18.34    \u001b[0m | \u001b[0m40.42    \u001b[0m | \u001b[0m0.08008  \u001b[0m | \u001b[0m2.937    \u001b[0m | \u001b[0m19.1     \u001b[0m | \u001b[0m0.3463   \u001b[0m |\n",
      "0.016991343652261244 0.21078536945252407 0.4394306846250588\n"
     ]
    },
    {
     "data": {
      "text/html": [
       "\n",
       "<style>\n",
       "    /* Turns off some styling */\n",
       "    progress {\n",
       "        /* gets rid of default border in Firefox and Opera. */\n",
       "        border: none;\n",
       "        /* Needs to be in here for Safari polyfill so background images work as expected. */\n",
       "        background-size: auto;\n",
       "    }\n",
       "    progress:not([value]), progress:not([value])::-webkit-progress-bar {\n",
       "        background: repeating-linear-gradient(45deg, #7e7e7e, #7e7e7e 10px, #5c5c5c 10px, #5c5c5c 20px);\n",
       "    }\n",
       "    .progress-bar-interrupted, .progress-bar-interrupted::-webkit-progress-bar {\n",
       "        background: #F44336;\n",
       "    }\n",
       "</style>\n"
      ],
      "text/plain": [
       "<IPython.core.display.HTML object>"
      ]
     },
     "metadata": {},
     "output_type": "display_data"
    },
    {
     "data": {
      "text/html": [],
      "text/plain": [
       "<IPython.core.display.HTML object>"
      ]
     },
     "metadata": {},
     "output_type": "display_data"
    },
    {
     "data": {
      "text/html": [
       "\n",
       "<style>\n",
       "    /* Turns off some styling */\n",
       "    progress {\n",
       "        /* gets rid of default border in Firefox and Opera. */\n",
       "        border: none;\n",
       "        /* Needs to be in here for Safari polyfill so background images work as expected. */\n",
       "        background-size: auto;\n",
       "    }\n",
       "    progress:not([value]), progress:not([value])::-webkit-progress-bar {\n",
       "        background: repeating-linear-gradient(45deg, #7e7e7e, #7e7e7e 10px, #5c5c5c 10px, #5c5c5c 20px);\n",
       "    }\n",
       "    .progress-bar-interrupted, .progress-bar-interrupted::-webkit-progress-bar {\n",
       "        background: #F44336;\n",
       "    }\n",
       "</style>\n"
      ],
      "text/plain": [
       "<IPython.core.display.HTML object>"
      ]
     },
     "metadata": {},
     "output_type": "display_data"
    },
    {
     "data": {
      "text/html": [],
      "text/plain": [
       "<IPython.core.display.HTML object>"
      ]
     },
     "metadata": {},
     "output_type": "display_data"
    },
    {
     "name": "stdout",
     "output_type": "stream",
     "text": [
      "| \u001b[0m4        \u001b[0m | \u001b[0m-14.32   \u001b[0m | \u001b[0m0.4394   \u001b[0m | \u001b[0m179.4    \u001b[0m | \u001b[0m13.08    \u001b[0m | \u001b[0m8.772    \u001b[0m | \u001b[0m0.01699  \u001b[0m | \u001b[0m2.756    \u001b[0m | \u001b[0m9.426    \u001b[0m | \u001b[0m0.2108   \u001b[0m |\n",
      "0.06865322775888155 0.3751720997465057 0.47936586977374596\n"
     ]
    },
    {
     "data": {
      "text/html": [
       "\n",
       "<style>\n",
       "    /* Turns off some styling */\n",
       "    progress {\n",
       "        /* gets rid of default border in Firefox and Opera. */\n",
       "        border: none;\n",
       "        /* Needs to be in here for Safari polyfill so background images work as expected. */\n",
       "        background-size: auto;\n",
       "    }\n",
       "    progress:not([value]), progress:not([value])::-webkit-progress-bar {\n",
       "        background: repeating-linear-gradient(45deg, #7e7e7e, #7e7e7e 10px, #5c5c5c 10px, #5c5c5c 20px);\n",
       "    }\n",
       "    .progress-bar-interrupted, .progress-bar-interrupted::-webkit-progress-bar {\n",
       "        background: #F44336;\n",
       "    }\n",
       "</style>\n"
      ],
      "text/plain": [
       "<IPython.core.display.HTML object>"
      ]
     },
     "metadata": {},
     "output_type": "display_data"
    },
    {
     "data": {
      "text/html": [],
      "text/plain": [
       "<IPython.core.display.HTML object>"
      ]
     },
     "metadata": {},
     "output_type": "display_data"
    },
    {
     "data": {
      "text/html": [
       "\n",
       "<style>\n",
       "    /* Turns off some styling */\n",
       "    progress {\n",
       "        /* gets rid of default border in Firefox and Opera. */\n",
       "        border: none;\n",
       "        /* Needs to be in here for Safari polyfill so background images work as expected. */\n",
       "        background-size: auto;\n",
       "    }\n",
       "    progress:not([value]), progress:not([value])::-webkit-progress-bar {\n",
       "        background: repeating-linear-gradient(45deg, #7e7e7e, #7e7e7e 10px, #5c5c5c 10px, #5c5c5c 20px);\n",
       "    }\n",
       "    .progress-bar-interrupted, .progress-bar-interrupted::-webkit-progress-bar {\n",
       "        background: #F44336;\n",
       "    }\n",
       "</style>\n"
      ],
      "text/plain": [
       "<IPython.core.display.HTML object>"
      ]
     },
     "metadata": {},
     "output_type": "display_data"
    },
    {
     "data": {
      "text/html": [],
      "text/plain": [
       "<IPython.core.display.HTML object>"
      ]
     },
     "metadata": {},
     "output_type": "display_data"
    },
    {
     "name": "stdout",
     "output_type": "stream",
     "text": [
      "| \u001b[0m5        \u001b[0m | \u001b[0m-13.25   \u001b[0m | \u001b[0m0.4794   \u001b[0m | \u001b[0m109.0    \u001b[0m | \u001b[0m70.73    \u001b[0m | \u001b[0m63.79    \u001b[0m | \u001b[0m0.06865  \u001b[0m | \u001b[0m2.669    \u001b[0m | \u001b[0m5.823    \u001b[0m | \u001b[0m0.3752   \u001b[0m |\n",
      "0.06080083260120823 0.26988485659395833 0.05261671374575717\n"
     ]
    },
    {
     "data": {
      "text/html": [
       "\n",
       "<style>\n",
       "    /* Turns off some styling */\n",
       "    progress {\n",
       "        /* gets rid of default border in Firefox and Opera. */\n",
       "        border: none;\n",
       "        /* Needs to be in here for Safari polyfill so background images work as expected. */\n",
       "        background-size: auto;\n",
       "    }\n",
       "    progress:not([value]), progress:not([value])::-webkit-progress-bar {\n",
       "        background: repeating-linear-gradient(45deg, #7e7e7e, #7e7e7e 10px, #5c5c5c 10px, #5c5c5c 20px);\n",
       "    }\n",
       "    .progress-bar-interrupted, .progress-bar-interrupted::-webkit-progress-bar {\n",
       "        background: #F44336;\n",
       "    }\n",
       "</style>\n"
      ],
      "text/plain": [
       "<IPython.core.display.HTML object>"
      ]
     },
     "metadata": {},
     "output_type": "display_data"
    },
    {
     "data": {
      "text/html": [],
      "text/plain": [
       "<IPython.core.display.HTML object>"
      ]
     },
     "metadata": {},
     "output_type": "display_data"
    },
    {
     "data": {
      "text/html": [
       "\n",
       "<style>\n",
       "    /* Turns off some styling */\n",
       "    progress {\n",
       "        /* gets rid of default border in Firefox and Opera. */\n",
       "        border: none;\n",
       "        /* Needs to be in here for Safari polyfill so background images work as expected. */\n",
       "        background-size: auto;\n",
       "    }\n",
       "    progress:not([value]), progress:not([value])::-webkit-progress-bar {\n",
       "        background: repeating-linear-gradient(45deg, #7e7e7e, #7e7e7e 10px, #5c5c5c 10px, #5c5c5c 20px);\n",
       "    }\n",
       "    .progress-bar-interrupted, .progress-bar-interrupted::-webkit-progress-bar {\n",
       "        background: #F44336;\n",
       "    }\n",
       "</style>\n"
      ],
      "text/plain": [
       "<IPython.core.display.HTML object>"
      ]
     },
     "metadata": {},
     "output_type": "display_data"
    },
    {
     "data": {
      "text/html": [],
      "text/plain": [
       "<IPython.core.display.HTML object>"
      ]
     },
     "metadata": {},
     "output_type": "display_data"
    },
    {
     "name": "stdout",
     "output_type": "stream",
     "text": [
      "| \u001b[0m6        \u001b[0m | \u001b[0m-13.88   \u001b[0m | \u001b[0m0.05262  \u001b[0m | \u001b[0m115.8    \u001b[0m | \u001b[0m20.74    \u001b[0m | \u001b[0m38.24    \u001b[0m | \u001b[0m0.0608   \u001b[0m | \u001b[0m2.939    \u001b[0m | \u001b[0m20.34    \u001b[0m | \u001b[0m0.2699   \u001b[0m |\n",
      "0.09592249717907744 0.4738135450568632 0.4046676045690938\n"
     ]
    },
    {
     "data": {
      "text/html": [
       "\n",
       "<style>\n",
       "    /* Turns off some styling */\n",
       "    progress {\n",
       "        /* gets rid of default border in Firefox and Opera. */\n",
       "        border: none;\n",
       "        /* Needs to be in here for Safari polyfill so background images work as expected. */\n",
       "        background-size: auto;\n",
       "    }\n",
       "    progress:not([value]), progress:not([value])::-webkit-progress-bar {\n",
       "        background: repeating-linear-gradient(45deg, #7e7e7e, #7e7e7e 10px, #5c5c5c 10px, #5c5c5c 20px);\n",
       "    }\n",
       "    .progress-bar-interrupted, .progress-bar-interrupted::-webkit-progress-bar {\n",
       "        background: #F44336;\n",
       "    }\n",
       "</style>\n"
      ],
      "text/plain": [
       "<IPython.core.display.HTML object>"
      ]
     },
     "metadata": {},
     "output_type": "display_data"
    },
    {
     "data": {
      "text/html": [],
      "text/plain": [
       "<IPython.core.display.HTML object>"
      ]
     },
     "metadata": {},
     "output_type": "display_data"
    },
    {
     "data": {
      "text/html": [
       "\n",
       "<style>\n",
       "    /* Turns off some styling */\n",
       "    progress {\n",
       "        /* gets rid of default border in Firefox and Opera. */\n",
       "        border: none;\n",
       "        /* Needs to be in here for Safari polyfill so background images work as expected. */\n",
       "        background-size: auto;\n",
       "    }\n",
       "    progress:not([value]), progress:not([value])::-webkit-progress-bar {\n",
       "        background: repeating-linear-gradient(45deg, #7e7e7e, #7e7e7e 10px, #5c5c5c 10px, #5c5c5c 20px);\n",
       "    }\n",
       "    .progress-bar-interrupted, .progress-bar-interrupted::-webkit-progress-bar {\n",
       "        background: #F44336;\n",
       "    }\n",
       "</style>\n"
      ],
      "text/plain": [
       "<IPython.core.display.HTML object>"
      ]
     },
     "metadata": {},
     "output_type": "display_data"
    },
    {
     "data": {
      "text/html": [],
      "text/plain": [
       "<IPython.core.display.HTML object>"
      ]
     },
     "metadata": {},
     "output_type": "display_data"
    },
    {
     "name": "stdout",
     "output_type": "stream",
     "text": [
      "| \u001b[95m7        \u001b[0m | \u001b[95m-12.83   \u001b[0m | \u001b[95m0.4047   \u001b[0m | \u001b[95m34.6     \u001b[0m | \u001b[95m35.76    \u001b[0m | \u001b[95m87.01    \u001b[0m | \u001b[95m0.09592  \u001b[0m | \u001b[95m2.295    \u001b[0m | \u001b[95m29.48    \u001b[0m | \u001b[95m0.4738   \u001b[0m |\n",
      "0.043225948784827176 0.17433769680391295 0.12259474557375995\n"
     ]
    },
    {
     "data": {
      "text/html": [
       "\n",
       "<style>\n",
       "    /* Turns off some styling */\n",
       "    progress {\n",
       "        /* gets rid of default border in Firefox and Opera. */\n",
       "        border: none;\n",
       "        /* Needs to be in here for Safari polyfill so background images work as expected. */\n",
       "        background-size: auto;\n",
       "    }\n",
       "    progress:not([value]), progress:not([value])::-webkit-progress-bar {\n",
       "        background: repeating-linear-gradient(45deg, #7e7e7e, #7e7e7e 10px, #5c5c5c 10px, #5c5c5c 20px);\n",
       "    }\n",
       "    .progress-bar-interrupted, .progress-bar-interrupted::-webkit-progress-bar {\n",
       "        background: #F44336;\n",
       "    }\n",
       "</style>\n"
      ],
      "text/plain": [
       "<IPython.core.display.HTML object>"
      ]
     },
     "metadata": {},
     "output_type": "display_data"
    },
    {
     "data": {
      "text/html": [],
      "text/plain": [
       "<IPython.core.display.HTML object>"
      ]
     },
     "metadata": {},
     "output_type": "display_data"
    },
    {
     "data": {
      "text/html": [
       "\n",
       "<style>\n",
       "    /* Turns off some styling */\n",
       "    progress {\n",
       "        /* gets rid of default border in Firefox and Opera. */\n",
       "        border: none;\n",
       "        /* Needs to be in here for Safari polyfill so background images work as expected. */\n",
       "        background-size: auto;\n",
       "    }\n",
       "    progress:not([value]), progress:not([value])::-webkit-progress-bar {\n",
       "        background: repeating-linear-gradient(45deg, #7e7e7e, #7e7e7e 10px, #5c5c5c 10px, #5c5c5c 20px);\n",
       "    }\n",
       "    .progress-bar-interrupted, .progress-bar-interrupted::-webkit-progress-bar {\n",
       "        background: #F44336;\n",
       "    }\n",
       "</style>\n"
      ],
      "text/plain": [
       "<IPython.core.display.HTML object>"
      ]
     },
     "metadata": {},
     "output_type": "display_data"
    },
    {
     "data": {
      "text/html": [],
      "text/plain": [
       "<IPython.core.display.HTML object>"
      ]
     },
     "metadata": {},
     "output_type": "display_data"
    },
    {
     "name": "stdout",
     "output_type": "stream",
     "text": [
      "| \u001b[0m8        \u001b[0m | \u001b[0m-13.49   \u001b[0m | \u001b[0m0.1226   \u001b[0m | \u001b[0m36.78    \u001b[0m | \u001b[0m37.18    \u001b[0m | \u001b[0m86.78    \u001b[0m | \u001b[0m0.04323  \u001b[0m | \u001b[0m1.565    \u001b[0m | \u001b[0m22.92    \u001b[0m | \u001b[0m0.1743   \u001b[0m |\n",
      "0.052497599396211105 0.08366095636784318 0.2631460218820466\n"
     ]
    },
    {
     "data": {
      "text/html": [
       "\n",
       "<style>\n",
       "    /* Turns off some styling */\n",
       "    progress {\n",
       "        /* gets rid of default border in Firefox and Opera. */\n",
       "        border: none;\n",
       "        /* Needs to be in here for Safari polyfill so background images work as expected. */\n",
       "        background-size: auto;\n",
       "    }\n",
       "    progress:not([value]), progress:not([value])::-webkit-progress-bar {\n",
       "        background: repeating-linear-gradient(45deg, #7e7e7e, #7e7e7e 10px, #5c5c5c 10px, #5c5c5c 20px);\n",
       "    }\n",
       "    .progress-bar-interrupted, .progress-bar-interrupted::-webkit-progress-bar {\n",
       "        background: #F44336;\n",
       "    }\n",
       "</style>\n"
      ],
      "text/plain": [
       "<IPython.core.display.HTML object>"
      ]
     },
     "metadata": {},
     "output_type": "display_data"
    },
    {
     "data": {
      "text/html": [],
      "text/plain": [
       "<IPython.core.display.HTML object>"
      ]
     },
     "metadata": {},
     "output_type": "display_data"
    },
    {
     "data": {
      "text/html": [
       "\n",
       "<style>\n",
       "    /* Turns off some styling */\n",
       "    progress {\n",
       "        /* gets rid of default border in Firefox and Opera. */\n",
       "        border: none;\n",
       "        /* Needs to be in here for Safari polyfill so background images work as expected. */\n",
       "        background-size: auto;\n",
       "    }\n",
       "    progress:not([value]), progress:not([value])::-webkit-progress-bar {\n",
       "        background: repeating-linear-gradient(45deg, #7e7e7e, #7e7e7e 10px, #5c5c5c 10px, #5c5c5c 20px);\n",
       "    }\n",
       "    .progress-bar-interrupted, .progress-bar-interrupted::-webkit-progress-bar {\n",
       "        background: #F44336;\n",
       "    }\n",
       "</style>\n"
      ],
      "text/plain": [
       "<IPython.core.display.HTML object>"
      ]
     },
     "metadata": {},
     "output_type": "display_data"
    },
    {
     "data": {
      "text/html": [],
      "text/plain": [
       "<IPython.core.display.HTML object>"
      ]
     },
     "metadata": {},
     "output_type": "display_data"
    },
    {
     "name": "stdout",
     "output_type": "stream",
     "text": [
      "| \u001b[0m9        \u001b[0m | \u001b[0m-14.87   \u001b[0m | \u001b[0m0.2631   \u001b[0m | \u001b[0m32.69    \u001b[0m | \u001b[0m35.82    \u001b[0m | \u001b[0m83.81    \u001b[0m | \u001b[0m0.0525   \u001b[0m | \u001b[0m1.469    \u001b[0m | \u001b[0m33.39    \u001b[0m | \u001b[0m0.08366  \u001b[0m |\n",
      "0.08026604259231103 0.3004227655534269 0.07302823789258306\n"
     ]
    },
    {
     "data": {
      "text/html": [
       "\n",
       "<style>\n",
       "    /* Turns off some styling */\n",
       "    progress {\n",
       "        /* gets rid of default border in Firefox and Opera. */\n",
       "        border: none;\n",
       "        /* Needs to be in here for Safari polyfill so background images work as expected. */\n",
       "        background-size: auto;\n",
       "    }\n",
       "    progress:not([value]), progress:not([value])::-webkit-progress-bar {\n",
       "        background: repeating-linear-gradient(45deg, #7e7e7e, #7e7e7e 10px, #5c5c5c 10px, #5c5c5c 20px);\n",
       "    }\n",
       "    .progress-bar-interrupted, .progress-bar-interrupted::-webkit-progress-bar {\n",
       "        background: #F44336;\n",
       "    }\n",
       "</style>\n"
      ],
      "text/plain": [
       "<IPython.core.display.HTML object>"
      ]
     },
     "metadata": {},
     "output_type": "display_data"
    },
    {
     "data": {
      "text/html": [],
      "text/plain": [
       "<IPython.core.display.HTML object>"
      ]
     },
     "metadata": {},
     "output_type": "display_data"
    },
    {
     "data": {
      "text/html": [
       "\n",
       "<style>\n",
       "    /* Turns off some styling */\n",
       "    progress {\n",
       "        /* gets rid of default border in Firefox and Opera. */\n",
       "        border: none;\n",
       "        /* Needs to be in here for Safari polyfill so background images work as expected. */\n",
       "        background-size: auto;\n",
       "    }\n",
       "    progress:not([value]), progress:not([value])::-webkit-progress-bar {\n",
       "        background: repeating-linear-gradient(45deg, #7e7e7e, #7e7e7e 10px, #5c5c5c 10px, #5c5c5c 20px);\n",
       "    }\n",
       "    .progress-bar-interrupted, .progress-bar-interrupted::-webkit-progress-bar {\n",
       "        background: #F44336;\n",
       "    }\n",
       "</style>\n"
      ],
      "text/plain": [
       "<IPython.core.display.HTML object>"
      ]
     },
     "metadata": {},
     "output_type": "display_data"
    },
    {
     "data": {
      "text/html": [],
      "text/plain": [
       "<IPython.core.display.HTML object>"
      ]
     },
     "metadata": {},
     "output_type": "display_data"
    },
    {
     "name": "stdout",
     "output_type": "stream",
     "text": [
      "| \u001b[0m10       \u001b[0m | \u001b[0m-13.21   \u001b[0m | \u001b[0m0.07303  \u001b[0m | \u001b[0m9.062    \u001b[0m | \u001b[0m89.29    \u001b[0m | \u001b[0m160.1    \u001b[0m | \u001b[0m0.08027  \u001b[0m | \u001b[0m1.943    \u001b[0m | \u001b[0m42.18    \u001b[0m | \u001b[0m0.3004   \u001b[0m |\n",
      "0.05913093540465243 0.4402460598070787 0.4776852616612355\n"
     ]
    },
    {
     "data": {
      "text/html": [
       "\n",
       "<style>\n",
       "    /* Turns off some styling */\n",
       "    progress {\n",
       "        /* gets rid of default border in Firefox and Opera. */\n",
       "        border: none;\n",
       "        /* Needs to be in here for Safari polyfill so background images work as expected. */\n",
       "        background-size: auto;\n",
       "    }\n",
       "    progress:not([value]), progress:not([value])::-webkit-progress-bar {\n",
       "        background: repeating-linear-gradient(45deg, #7e7e7e, #7e7e7e 10px, #5c5c5c 10px, #5c5c5c 20px);\n",
       "    }\n",
       "    .progress-bar-interrupted, .progress-bar-interrupted::-webkit-progress-bar {\n",
       "        background: #F44336;\n",
       "    }\n",
       "</style>\n"
      ],
      "text/plain": [
       "<IPython.core.display.HTML object>"
      ]
     },
     "metadata": {},
     "output_type": "display_data"
    },
    {
     "data": {
      "text/html": [],
      "text/plain": [
       "<IPython.core.display.HTML object>"
      ]
     },
     "metadata": {},
     "output_type": "display_data"
    },
    {
     "data": {
      "text/html": [
       "\n",
       "<style>\n",
       "    /* Turns off some styling */\n",
       "    progress {\n",
       "        /* gets rid of default border in Firefox and Opera. */\n",
       "        border: none;\n",
       "        /* Needs to be in here for Safari polyfill so background images work as expected. */\n",
       "        background-size: auto;\n",
       "    }\n",
       "    progress:not([value]), progress:not([value])::-webkit-progress-bar {\n",
       "        background: repeating-linear-gradient(45deg, #7e7e7e, #7e7e7e 10px, #5c5c5c 10px, #5c5c5c 20px);\n",
       "    }\n",
       "    .progress-bar-interrupted, .progress-bar-interrupted::-webkit-progress-bar {\n",
       "        background: #F44336;\n",
       "    }\n",
       "</style>\n"
      ],
      "text/plain": [
       "<IPython.core.display.HTML object>"
      ]
     },
     "metadata": {},
     "output_type": "display_data"
    },
    {
     "data": {
      "text/html": [],
      "text/plain": [
       "<IPython.core.display.HTML object>"
      ]
     },
     "metadata": {},
     "output_type": "display_data"
    },
    {
     "name": "stdout",
     "output_type": "stream",
     "text": [
      "| \u001b[0m11       \u001b[0m | \u001b[0m-13.42   \u001b[0m | \u001b[0m0.4777   \u001b[0m | \u001b[0m104.1    \u001b[0m | \u001b[0m36.29    \u001b[0m | \u001b[0m108.0    \u001b[0m | \u001b[0m0.05913  \u001b[0m | \u001b[0m2.105    \u001b[0m | \u001b[0m33.61    \u001b[0m | \u001b[0m0.4402   \u001b[0m |\n",
      "0.051429092321335364 0.09935005663953349 0.054676850361958164\n"
     ]
    },
    {
     "data": {
      "text/html": [
       "\n",
       "<style>\n",
       "    /* Turns off some styling */\n",
       "    progress {\n",
       "        /* gets rid of default border in Firefox and Opera. */\n",
       "        border: none;\n",
       "        /* Needs to be in here for Safari polyfill so background images work as expected. */\n",
       "        background-size: auto;\n",
       "    }\n",
       "    progress:not([value]), progress:not([value])::-webkit-progress-bar {\n",
       "        background: repeating-linear-gradient(45deg, #7e7e7e, #7e7e7e 10px, #5c5c5c 10px, #5c5c5c 20px);\n",
       "    }\n",
       "    .progress-bar-interrupted, .progress-bar-interrupted::-webkit-progress-bar {\n",
       "        background: #F44336;\n",
       "    }\n",
       "</style>\n"
      ],
      "text/plain": [
       "<IPython.core.display.HTML object>"
      ]
     },
     "metadata": {},
     "output_type": "display_data"
    },
    {
     "data": {
      "text/html": [],
      "text/plain": [
       "<IPython.core.display.HTML object>"
      ]
     },
     "metadata": {},
     "output_type": "display_data"
    },
    {
     "data": {
      "text/html": [
       "\n",
       "<style>\n",
       "    /* Turns off some styling */\n",
       "    progress {\n",
       "        /* gets rid of default border in Firefox and Opera. */\n",
       "        border: none;\n",
       "        /* Needs to be in here for Safari polyfill so background images work as expected. */\n",
       "        background-size: auto;\n",
       "    }\n",
       "    progress:not([value]), progress:not([value])::-webkit-progress-bar {\n",
       "        background: repeating-linear-gradient(45deg, #7e7e7e, #7e7e7e 10px, #5c5c5c 10px, #5c5c5c 20px);\n",
       "    }\n",
       "    .progress-bar-interrupted, .progress-bar-interrupted::-webkit-progress-bar {\n",
       "        background: #F44336;\n",
       "    }\n",
       "</style>\n"
      ],
      "text/plain": [
       "<IPython.core.display.HTML object>"
      ]
     },
     "metadata": {},
     "output_type": "display_data"
    },
    {
     "data": {
      "text/html": [],
      "text/plain": [
       "<IPython.core.display.HTML object>"
      ]
     },
     "metadata": {},
     "output_type": "display_data"
    },
    {
     "name": "stdout",
     "output_type": "stream",
     "text": [
      "| \u001b[0m12       \u001b[0m | \u001b[0m-15.45   \u001b[0m | \u001b[0m0.05468  \u001b[0m | \u001b[0m95.9     \u001b[0m | \u001b[0m14.53    \u001b[0m | \u001b[0m141.5    \u001b[0m | \u001b[0m0.05143  \u001b[0m | \u001b[0m1.974    \u001b[0m | \u001b[0m49.19    \u001b[0m | \u001b[0m0.09935  \u001b[0m |\n",
      "0.022854948489175717 0.4748805523148369 0.05040457871692479\n"
     ]
    },
    {
     "data": {
      "text/html": [
       "\n",
       "<style>\n",
       "    /* Turns off some styling */\n",
       "    progress {\n",
       "        /* gets rid of default border in Firefox and Opera. */\n",
       "        border: none;\n",
       "        /* Needs to be in here for Safari polyfill so background images work as expected. */\n",
       "        background-size: auto;\n",
       "    }\n",
       "    progress:not([value]), progress:not([value])::-webkit-progress-bar {\n",
       "        background: repeating-linear-gradient(45deg, #7e7e7e, #7e7e7e 10px, #5c5c5c 10px, #5c5c5c 20px);\n",
       "    }\n",
       "    .progress-bar-interrupted, .progress-bar-interrupted::-webkit-progress-bar {\n",
       "        background: #F44336;\n",
       "    }\n",
       "</style>\n"
      ],
      "text/plain": [
       "<IPython.core.display.HTML object>"
      ]
     },
     "metadata": {},
     "output_type": "display_data"
    },
    {
     "data": {
      "text/html": [],
      "text/plain": [
       "<IPython.core.display.HTML object>"
      ]
     },
     "metadata": {},
     "output_type": "display_data"
    },
    {
     "data": {
      "text/html": [
       "\n",
       "<style>\n",
       "    /* Turns off some styling */\n",
       "    progress {\n",
       "        /* gets rid of default border in Firefox and Opera. */\n",
       "        border: none;\n",
       "        /* Needs to be in here for Safari polyfill so background images work as expected. */\n",
       "        background-size: auto;\n",
       "    }\n",
       "    progress:not([value]), progress:not([value])::-webkit-progress-bar {\n",
       "        background: repeating-linear-gradient(45deg, #7e7e7e, #7e7e7e 10px, #5c5c5c 10px, #5c5c5c 20px);\n",
       "    }\n",
       "    .progress-bar-interrupted, .progress-bar-interrupted::-webkit-progress-bar {\n",
       "        background: #F44336;\n",
       "    }\n",
       "</style>\n"
      ],
      "text/plain": [
       "<IPython.core.display.HTML object>"
      ]
     },
     "metadata": {},
     "output_type": "display_data"
    },
    {
     "data": {
      "text/html": [],
      "text/plain": [
       "<IPython.core.display.HTML object>"
      ]
     },
     "metadata": {},
     "output_type": "display_data"
    },
    {
     "name": "stdout",
     "output_type": "stream",
     "text": [
      "| \u001b[0m13       \u001b[0m | \u001b[0m-13.36   \u001b[0m | \u001b[0m0.0504   \u001b[0m | \u001b[0m53.66    \u001b[0m | \u001b[0m26.08    \u001b[0m | \u001b[0m174.1    \u001b[0m | \u001b[0m0.02285  \u001b[0m | \u001b[0m1.831    \u001b[0m | \u001b[0m22.1     \u001b[0m | \u001b[0m0.4749   \u001b[0m |\n",
      "0.019840803952430968 0.3109786567565107 0.12842374279973842\n"
     ]
    },
    {
     "data": {
      "text/html": [
       "\n",
       "<style>\n",
       "    /* Turns off some styling */\n",
       "    progress {\n",
       "        /* gets rid of default border in Firefox and Opera. */\n",
       "        border: none;\n",
       "        /* Needs to be in here for Safari polyfill so background images work as expected. */\n",
       "        background-size: auto;\n",
       "    }\n",
       "    progress:not([value]), progress:not([value])::-webkit-progress-bar {\n",
       "        background: repeating-linear-gradient(45deg, #7e7e7e, #7e7e7e 10px, #5c5c5c 10px, #5c5c5c 20px);\n",
       "    }\n",
       "    .progress-bar-interrupted, .progress-bar-interrupted::-webkit-progress-bar {\n",
       "        background: #F44336;\n",
       "    }\n",
       "</style>\n"
      ],
      "text/plain": [
       "<IPython.core.display.HTML object>"
      ]
     },
     "metadata": {},
     "output_type": "display_data"
    },
    {
     "data": {
      "text/html": [],
      "text/plain": [
       "<IPython.core.display.HTML object>"
      ]
     },
     "metadata": {},
     "output_type": "display_data"
    },
    {
     "data": {
      "text/html": [
       "\n",
       "<style>\n",
       "    /* Turns off some styling */\n",
       "    progress {\n",
       "        /* gets rid of default border in Firefox and Opera. */\n",
       "        border: none;\n",
       "        /* Needs to be in here for Safari polyfill so background images work as expected. */\n",
       "        background-size: auto;\n",
       "    }\n",
       "    progress:not([value]), progress:not([value])::-webkit-progress-bar {\n",
       "        background: repeating-linear-gradient(45deg, #7e7e7e, #7e7e7e 10px, #5c5c5c 10px, #5c5c5c 20px);\n",
       "    }\n",
       "    .progress-bar-interrupted, .progress-bar-interrupted::-webkit-progress-bar {\n",
       "        background: #F44336;\n",
       "    }\n",
       "</style>\n"
      ],
      "text/plain": [
       "<IPython.core.display.HTML object>"
      ]
     },
     "metadata": {},
     "output_type": "display_data"
    },
    {
     "data": {
      "text/html": [],
      "text/plain": [
       "<IPython.core.display.HTML object>"
      ]
     },
     "metadata": {},
     "output_type": "display_data"
    },
    {
     "name": "stdout",
     "output_type": "stream",
     "text": [
      "| \u001b[0m14       \u001b[0m | \u001b[0m-15.03   \u001b[0m | \u001b[0m0.1284   \u001b[0m | \u001b[0m168.8    \u001b[0m | \u001b[0m85.92    \u001b[0m | \u001b[0m117.9    \u001b[0m | \u001b[0m0.01984  \u001b[0m | \u001b[0m1.222    \u001b[0m | \u001b[0m37.41    \u001b[0m | \u001b[0m0.311    \u001b[0m |\n",
      "0.07226581500164518 0.38192625361866056 0.15912879684598275\n"
     ]
    },
    {
     "data": {
      "text/html": [
       "\n",
       "<style>\n",
       "    /* Turns off some styling */\n",
       "    progress {\n",
       "        /* gets rid of default border in Firefox and Opera. */\n",
       "        border: none;\n",
       "        /* Needs to be in here for Safari polyfill so background images work as expected. */\n",
       "        background-size: auto;\n",
       "    }\n",
       "    progress:not([value]), progress:not([value])::-webkit-progress-bar {\n",
       "        background: repeating-linear-gradient(45deg, #7e7e7e, #7e7e7e 10px, #5c5c5c 10px, #5c5c5c 20px);\n",
       "    }\n",
       "    .progress-bar-interrupted, .progress-bar-interrupted::-webkit-progress-bar {\n",
       "        background: #F44336;\n",
       "    }\n",
       "</style>\n"
      ],
      "text/plain": [
       "<IPython.core.display.HTML object>"
      ]
     },
     "metadata": {},
     "output_type": "display_data"
    },
    {
     "data": {
      "text/html": [],
      "text/plain": [
       "<IPython.core.display.HTML object>"
      ]
     },
     "metadata": {},
     "output_type": "display_data"
    },
    {
     "data": {
      "text/html": [
       "\n",
       "<style>\n",
       "    /* Turns off some styling */\n",
       "    progress {\n",
       "        /* gets rid of default border in Firefox and Opera. */\n",
       "        border: none;\n",
       "        /* Needs to be in here for Safari polyfill so background images work as expected. */\n",
       "        background-size: auto;\n",
       "    }\n",
       "    progress:not([value]), progress:not([value])::-webkit-progress-bar {\n",
       "        background: repeating-linear-gradient(45deg, #7e7e7e, #7e7e7e 10px, #5c5c5c 10px, #5c5c5c 20px);\n",
       "    }\n",
       "    .progress-bar-interrupted, .progress-bar-interrupted::-webkit-progress-bar {\n",
       "        background: #F44336;\n",
       "    }\n",
       "</style>\n"
      ],
      "text/plain": [
       "<IPython.core.display.HTML object>"
      ]
     },
     "metadata": {},
     "output_type": "display_data"
    },
    {
     "data": {
      "text/html": [],
      "text/plain": [
       "<IPython.core.display.HTML object>"
      ]
     },
     "metadata": {},
     "output_type": "display_data"
    },
    {
     "name": "stdout",
     "output_type": "stream",
     "text": [
      "| \u001b[0m15       \u001b[0m | \u001b[0m-13.0    \u001b[0m | \u001b[0m0.1591   \u001b[0m | \u001b[0m103.3    \u001b[0m | \u001b[0m5.237    \u001b[0m | \u001b[0m168.6    \u001b[0m | \u001b[0m0.07227  \u001b[0m | \u001b[0m1.463    \u001b[0m | \u001b[0m6.85     \u001b[0m | \u001b[0m0.3819   \u001b[0m |\n",
      "=========================================================================================================================\n",
      "{'target': -12.832524299621582, 'params': {'dp': 0.4046676045690938, 'layer_1': 34.598475585257546, 'layer_2': 35.75511910908871, 'layer_3': 87.00712173218196, 'lr': 0.09592249717907744, 'n_layers': 2.2948039076327684, 'num_steps': 29.479302065479875, 'wd': 0.4738135450568632}}\n"
     ]
    }
   ],
   "source": [
    "# Neural net tuning\n",
    "\n",
    "def fit_with(lr:float, wd:float, dp:float, n_layers:float, layer_1:float, layer_2:float, layer_3:float,num_steps:float):\n",
    "\n",
    "    print(lr, wd, dp)\n",
    "    if int(n_layers) == 2:\n",
    "        layers = [int(layer_1), int(layer_2)]\n",
    "    elif int(n_layers) == 3:\n",
    "        layers = [int(layer_1), int(layer_2), int(layer_3)]\n",
    "    else:\n",
    "        layers = [int(layer_1)]\n",
    "    config = tabular_config(embed_p=float(dp),ps=float(wd))\n",
    "    learn = tabular_learner(dls, layers=layers, metrics=mae, config = config)\n",
    "  \n",
    "    with learn.no_bar() and learn.no_logging():\n",
    "        learn.fit(int(num_steps), lr=float(lr))\n",
    "        \n",
    "    acc = float(learn.validate()[1])\n",
    "    \n",
    "    return -1.*acc\n",
    "\n",
    "\n",
    "train_df, val_df = train_test_split(df_fa, test_size=0.2)\n",
    "\n",
    "excluded = ['gid','year','home_team','away_team', 'home_points','margin', 'covers', 'away_points','home_wins']#,'spread'\n",
    "cat_features = ['home_conference','away_conference','neutral_site']\n",
    "cont_features = [c for c in selected_features_2 if c not in cat_features and c not in excluded]\n",
    "\n",
    "\n",
    "\n",
    "\n",
    "print(train_df[cont_features])\n",
    "splits = RandomSplitter(valid_pct=0.2)(range_of(train_df))\n",
    "to = TabularPandas(train_df, procs=[Categorify, Normalize],\n",
    "                    y_names=\"margin\",\n",
    "                    cat_names = cat_features,\n",
    "                    cont_names = cont_features,\n",
    "                    splits=splits)\n",
    "dls = to.dataloaders(bs=64)\n",
    "dls.show_batch()\n",
    "\n",
    "# tune_model(train_df[cont_features],train_df['spread'])\n",
    "\n",
    "learn = tabular_learner(dls, metrics=mae)\n",
    "hps = {'lr': (1e-05, 1e-01),\n",
    "      'wd': (4e-4, 0.5),\n",
    "      'dp': (0.01, 0.5),\n",
    "       'n_layers': (1,3),\n",
    "       'layer_1': (5, 200),\n",
    "       'layer_2': (5, 100),\n",
    "       'layer_3': (1, 200),\n",
    "      'num_steps': (5,50)}\n",
    "optim = BayesianOptimization(\n",
    "    f = fit_with, # our fit function\n",
    "    pbounds = hps, # our hyper parameters to tune\n",
    "    verbose = 2, # 1 prints out when a maximum is observed, 0 for silent\n",
    "    random_state=1\n",
    ")\n",
    "\n",
    "optim.maximize(n_iter=10)\n",
    "\n",
    "print(optim.max)"
   ]
  },
  {
   "cell_type": "code",
   "execution_count": 10,
   "id": "e49bebad",
   "metadata": {},
   "outputs": [
    {
     "data": {
      "text/html": [
       "\n",
       "<style>\n",
       "    /* Turns off some styling */\n",
       "    progress {\n",
       "        /* gets rid of default border in Firefox and Opera. */\n",
       "        border: none;\n",
       "        /* Needs to be in here for Safari polyfill so background images work as expected. */\n",
       "        background-size: auto;\n",
       "    }\n",
       "    progress:not([value]), progress:not([value])::-webkit-progress-bar {\n",
       "        background: repeating-linear-gradient(45deg, #7e7e7e, #7e7e7e 10px, #5c5c5c 10px, #5c5c5c 20px);\n",
       "    }\n",
       "    .progress-bar-interrupted, .progress-bar-interrupted::-webkit-progress-bar {\n",
       "        background: #F44336;\n",
       "    }\n",
       "</style>\n"
      ],
      "text/plain": [
       "<IPython.core.display.HTML object>"
      ]
     },
     "metadata": {},
     "output_type": "display_data"
    },
    {
     "data": {
      "text/html": [],
      "text/plain": [
       "<IPython.core.display.HTML object>"
      ]
     },
     "metadata": {},
     "output_type": "display_data"
    },
    {
     "data": {
      "text/html": [
       "\n",
       "<style>\n",
       "    /* Turns off some styling */\n",
       "    progress {\n",
       "        /* gets rid of default border in Firefox and Opera. */\n",
       "        border: none;\n",
       "        /* Needs to be in here for Safari polyfill so background images work as expected. */\n",
       "        background-size: auto;\n",
       "    }\n",
       "    progress:not([value]), progress:not([value])::-webkit-progress-bar {\n",
       "        background: repeating-linear-gradient(45deg, #7e7e7e, #7e7e7e 10px, #5c5c5c 10px, #5c5c5c 20px);\n",
       "    }\n",
       "    .progress-bar-interrupted, .progress-bar-interrupted::-webkit-progress-bar {\n",
       "        background: #F44336;\n",
       "    }\n",
       "</style>\n"
      ],
      "text/plain": [
       "<IPython.core.display.HTML object>"
      ]
     },
     "metadata": {},
     "output_type": "display_data"
    },
    {
     "data": {
      "text/html": [
       "<table border=\"1\" class=\"dataframe\">\n",
       "  <thead>\n",
       "    <tr style=\"text-align: left;\">\n",
       "      <th>epoch</th>\n",
       "      <th>train_loss</th>\n",
       "      <th>valid_loss</th>\n",
       "      <th>mse</th>\n",
       "      <th>time</th>\n",
       "    </tr>\n",
       "  </thead>\n",
       "  <tbody>\n",
       "    <tr>\n",
       "      <td>0</td>\n",
       "      <td>323.420074</td>\n",
       "      <td>272.131348</td>\n",
       "      <td>272.131348</td>\n",
       "      <td>00:00</td>\n",
       "    </tr>\n",
       "    <tr>\n",
       "      <td>1</td>\n",
       "      <td>294.127350</td>\n",
       "      <td>278.748657</td>\n",
       "      <td>278.748657</td>\n",
       "      <td>00:00</td>\n",
       "    </tr>\n",
       "    <tr>\n",
       "      <td>2</td>\n",
       "      <td>280.409119</td>\n",
       "      <td>269.909973</td>\n",
       "      <td>269.909973</td>\n",
       "      <td>00:00</td>\n",
       "    </tr>\n",
       "    <tr>\n",
       "      <td>3</td>\n",
       "      <td>271.700806</td>\n",
       "      <td>264.311157</td>\n",
       "      <td>264.311157</td>\n",
       "      <td>00:00</td>\n",
       "    </tr>\n",
       "  </tbody>\n",
       "</table>"
      ],
      "text/plain": [
       "<IPython.core.display.HTML object>"
      ]
     },
     "metadata": {},
     "output_type": "display_data"
    },
    {
     "data": {
      "image/png": "[encoded data removed]",
      "text/plain": [
       "<Figure size 432x288 with 1 Axes>"
      ]
     },
     "metadata": {
      "needs_background": "light"
     },
     "output_type": "display_data"
    }
   ],
   "source": [
    "# Initial fit of neural net\n",
    "splits = RandomSplitter(valid_pct=0.2)(range_of(train_df))\n",
    "to = TabularPandas(train_df, procs=[Categorify, Normalize],\n",
    "                    y_names=\"margin\",\n",
    "                    cat_names = cat_features,\n",
    "                    cont_names = cont_features,\n",
    "                    splits=splits)\n",
    "dls = to.dataloaders(bs=64)\n",
    "layers = [35,35]\n",
    "config = tabular_config(embed_p=0.4,\n",
    "                      ps=0.47)\n",
    "learn = tabular_learner(dls, layers=layers, metrics=mse, config = config)\n",
    "learn.lr_find()\n",
    "learn.fit(4,lr=0.05)"
   ]
  },
  {
   "cell_type": "code",
   "execution_count": 11,
   "id": "15c8b2ca",
   "metadata": {},
   "outputs": [
    {
     "data": {
      "text/html": [
       "\n",
       "<style>\n",
       "    /* Turns off some styling */\n",
       "    progress {\n",
       "        /* gets rid of default border in Firefox and Opera. */\n",
       "        border: none;\n",
       "        /* Needs to be in here for Safari polyfill so background images work as expected. */\n",
       "        background-size: auto;\n",
       "    }\n",
       "    progress:not([value]), progress:not([value])::-webkit-progress-bar {\n",
       "        background: repeating-linear-gradient(45deg, #7e7e7e, #7e7e7e 10px, #5c5c5c 10px, #5c5c5c 20px);\n",
       "    }\n",
       "    .progress-bar-interrupted, .progress-bar-interrupted::-webkit-progress-bar {\n",
       "        background: #F44336;\n",
       "    }\n",
       "</style>\n"
      ],
      "text/plain": [
       "<IPython.core.display.HTML object>"
      ]
     },
     "metadata": {},
     "output_type": "display_data"
    },
    {
     "data": {
      "text/html": [
       "<table border=\"1\" class=\"dataframe\">\n",
       "  <thead>\n",
       "    <tr style=\"text-align: left;\">\n",
       "      <th>epoch</th>\n",
       "      <th>train_loss</th>\n",
       "      <th>valid_loss</th>\n",
       "      <th>mse</th>\n",
       "      <th>time</th>\n",
       "    </tr>\n",
       "  </thead>\n",
       "  <tbody>\n",
       "    <tr>\n",
       "      <td>0</td>\n",
       "      <td>257.316010</td>\n",
       "      <td>265.301483</td>\n",
       "      <td>265.301483</td>\n",
       "      <td>00:00</td>\n",
       "    </tr>\n",
       "  </tbody>\n",
       "</table>"
      ],
      "text/plain": [
       "<IPython.core.display.HTML object>"
      ]
     },
     "metadata": {},
     "output_type": "display_data"
    }
   ],
   "source": [
    "# Manual fitting of neural net\n",
    "learn.fit(1,lr=0.01)"
   ]
  },
  {
   "cell_type": "code",
   "execution_count": 12,
   "id": "fa0ad015",
   "metadata": {},
   "outputs": [
    {
     "data": {
      "text/html": [
       "\n",
       "<style>\n",
       "    /* Turns off some styling */\n",
       "    progress {\n",
       "        /* gets rid of default border in Firefox and Opera. */\n",
       "        border: none;\n",
       "        /* Needs to be in here for Safari polyfill so background images work as expected. */\n",
       "        background-size: auto;\n",
       "    }\n",
       "    progress:not([value]), progress:not([value])::-webkit-progress-bar {\n",
       "        background: repeating-linear-gradient(45deg, #7e7e7e, #7e7e7e 10px, #5c5c5c 10px, #5c5c5c 20px);\n",
       "    }\n",
       "    .progress-bar-interrupted, .progress-bar-interrupted::-webkit-progress-bar {\n",
       "        background: #F44336;\n",
       "    }\n",
       "</style>\n"
      ],
      "text/plain": [
       "<IPython.core.display.HTML object>"
      ]
     },
     "metadata": {},
     "output_type": "display_data"
    },
    {
     "data": {
      "text/html": [],
      "text/plain": [
       "<IPython.core.display.HTML object>"
      ]
     },
     "metadata": {},
     "output_type": "display_data"
    },
    {
     "name": "stdout",
     "output_type": "stream",
     "text": [
      "Analysis of neural net performance, by difference from spread\n",
      "0 471 0.5074309978768577\n",
      "1 398 0.535175879396985\n",
      "2 327 0.5412844036697247\n",
      "3 260 0.5615384615384615\n",
      "4 207 0.5555555555555556\n",
      "5 175 0.5485714285714286\n",
      "6 136 0.5441176470588235\n",
      "7 106 0.5566037735849056\n",
      "8 80 0.5875\n",
      "9 57 0.6140350877192983\n"
     ]
    },
    {
     "name": "stderr",
     "output_type": "stream",
     "text": [
      "C:\\Users\\willi\\AppData\\Local\\Temp/ipykernel_19396/1898021362.py:25: RuntimeWarning: invalid value encountered in scalar divide\n",
      "  if prediction == (abs(pdf_net['real_margin'][i]-pdf_net['real_spread'][i])/(pdf_net['real_margin'][i]- pdf_net['real_spread'][i])):\n"
     ]
    }
   ],
   "source": [
    "# Neural net validation\n",
    "\n",
    "pdf_net = val_df.copy()\n",
    "# pdf['spread'] = (pdf['spread'] - df['spread'].mean()) / df['spread'].std()\n",
    "dl_net = learn.dls.test_dl(pdf_net)\n",
    "pdf_net['predicted'] = learn.get_preds(dl=dl_net)[0].numpy()\n",
    "pdf_net['real_spread']=pdf_net['spread'] * df['spread'].std() + df['spread'].mean()\n",
    "pdf_net['real_margin'] = pdf_net['margin']\n",
    "pdf_net['real_predicted'] = pdf_net['predicted']\n",
    "\n",
    "print('Analysis of neural net performance, by difference from spread')\n",
    "\n",
    "for margin in range(10):\n",
    "    count = 0\n",
    "    countTrue = 0\n",
    "    for i in pdf_net.index:\n",
    "        prediction_net_minus_spread = pdf_net['real_predicted'][i] - pdf_net['real_spread'][i]\n",
    "\n",
    "        if prediction_net_minus_spread < -margin:\n",
    "            prediction = -1\n",
    "        elif prediction_net_minus_spread > margin:\n",
    "            prediction = 1\n",
    "        else:\n",
    "            continue\n",
    "        if prediction == (abs(pdf_net['real_margin'][i]-pdf_net['real_spread'][i])/(pdf_net['real_margin'][i]- pdf_net['real_spread'][i])):\n",
    "            countTrue += 1\n",
    "        count += 1\n",
    "    print(margin, count, countTrue/count)"
   ]
  },
  {
   "cell_type": "code",
   "execution_count": null,
   "id": "e44d73c5",
   "metadata": {
    "scrolled": true
   },
   "outputs": [],
   "source": [
    "excluded = ['gid', 'year', 'home_team', 'away_team', 'home_points', 'margin', 'covers', 'away_points', 'home_wins']\n",
    "cat_features = ['home_conference', 'away_conference', 'neutral_site']\n",
    "cont_features = [c for c in selected_features_2 if c not in cat_features and c not in excluded]\n",
    "\n",
    "monotonicity = []\n",
    "for feature in cont_features:\n",
    "    corr = train_df[feature].corr(train_df['covers'])\n",
    "    if corr < -.4:\n",
    "        monotonicity.append(-1)\n",
    "    elif corr > .4:\n",
    "        monotonicity.append(1)\n",
    "    else:\n",
    "        monotonicity.append(0)\n",
    "monotonicity = tuple(monotonicity)\n",
    "\n",
    "folds = 5\n",
    "\n",
    "param_grid = {\n",
    "    'learning_rate': [0.01, 0.05, 0.10, 0.20],  \n",
    "    'min_child_weight': [1, 5, 10],  \n",
    "    'gamma': [0.5, 1, 5],  \n",
    "    'subsample': [0.6, 0.8, 1.0],  \n",
    "    'colsample_bytree': [0.6, 0.8, 1.0],  \n",
    "    'max_depth': [2, 3, 4],\n",
    "    'reg_lambda': [0.5, 1, 1.5, 2],\n",
    "    'reg_alpha': [0, 0.5, 1]\n",
    "}\n",
    "\n",
    "skf = StratifiedKFold(n_splits=folds, shuffle=True, random_state=11)\n",
    "\n",
    "grid = RandomizedSearchCV(\n",
    "    XGBClassifier(\n",
    "        objective='binary:logistic', \n",
    "        monotone_constraints=monotonicity, \n",
    "        use_label_encoder=False\n",
    "    ), \n",
    "    param_grid,\n",
    "    n_jobs=1,\n",
    "    cv=skf.split(train_df[cont_features], train_df['covers']),\n",
    "    scoring='accuracy',\n",
    "    verbose=3,\n",
    "    refit=True,\n",
    "    n_iter=100\n",
    ")\n",
    "\n",
    "grid.fit(train_df[cont_features], train_df['covers'], early_stopping_rounds=10, eval_metric=\"logloss\", eval_set=[(train_df[cont_features], train_df['covers'])], verbose=True)\n",
    "\n",
    "pdf = val_df.copy()\n",
    "pdf['predicted'] = grid.predict(val_df[cont_features])\n",
    "pdf['real_spread'] = pdf['spread'] * df['spread'].std() + df['spread'].mean()\n",
    "pdf['real_margin'] = pdf['margin']\n",
    "pdf['predicted_prob'] = grid.predict_proba(val_df[cont_features])[:, 1]\n",
    "\n",
    "count = 0\n",
    "countTrue = 0\n",
    "\n",
    "for i in pdf.index:\n",
    "    if (abs(pdf['predicted_prob'][i] - .5) / (pdf['predicted_prob'][i] - .5)) == (abs(pdf['real_margin'][i] - pdf['real_spread'][i]) / (pdf['real_margin'][i] - pdf['real_spread'][i])):\n",
    "        countTrue += 1\n",
    "    count += 1\n",
    "\n",
    "print('Game accuracy: ', countTrue / count)"
   ]
  },
  {
   "cell_type": "code",
   "execution_count": 15,
   "id": "244f169e",
   "metadata": {},
   "outputs": [
    {
     "data": {
      "text/plain": [
       "{'subsample': 0.6,\n",
       " 'reg_lambda': 1.5,\n",
       " 'reg_alpha': 0,\n",
       " 'min_child_weight': 10,\n",
       " 'max_depth': 2,\n",
       " 'learning_rate': 0.1,\n",
       " 'gamma': 1,\n",
       " 'colsample_bytree': 1.0}"
      ]
     },
     "execution_count": 15,
     "metadata": {},
     "output_type": "execute_result"
    }
   ],
   "source": [
    "grid.best_params_"
   ]
  },
  {
   "cell_type": "code",
   "execution_count": 18,
   "id": "b1ea45b6",
   "metadata": {},
   "outputs": [
    {
     "name": "stdout",
     "output_type": "stream",
     "text": [
      "Game accuracy:  0.47558386411889597\n"
     ]
    },
    {
     "name": "stderr",
     "output_type": "stream",
     "text": [
      "C:\\Users\\willi\\AppData\\Local\\Temp/ipykernel_19396/765495859.py:12: RuntimeWarning: invalid value encountered in scalar divide\n",
      "  if (abs(pdf['predicted_prob'][i]-.5)/(pdf['predicted_prob'][i]-.5)) == (abs(pdf['real_margin'][i]-pdf['real_spread'][i])/(pdf['real_margin'][i]-pdf['real_spread'][i])):\n"
     ]
    }
   ],
   "source": [
    "df_to_use = val_df\n",
    "pdf = df_to_use.copy()\n",
    "pdf['predicted'] = grid.predict(df_to_use[cont_features])\n",
    "pdf['real_spread']=pdf['spread'] * df['spread'].std() + df['spread'].mean()\n",
    "pdf['real_margin'] = pdf['margin']\n",
    "pdf['predicted_prob'] = grid.predict_proba(df_to_use[cont_features])[:, 1]\n",
    "count = 0\n",
    "countTrue = 0\n",
    "\n",
    "for i in pdf.index:\n",
    "    \n",
    "    if (abs(pdf['predicted_prob'][i]-.5)/(pdf['predicted_prob'][i]-.5)) == (abs(pdf['real_margin'][i]-pdf['real_spread'][i])/(pdf['real_margin'][i]-pdf['real_spread'][i])):\n",
    "        countTrue += 1\n",
    "    count += 1\n",
    "print('Game accuracy: ', countTrue/count)"
   ]
  },
  {
   "cell_type": "code",
   "execution_count": 20,
   "id": "0066f624",
   "metadata": {},
   "outputs": [
    {
     "name": "stdout",
     "output_type": "stream",
     "text": [
      "Analysis of XGBoost performance, by confidence\n",
      "0.5 471 0.47558386411889597\n",
      "0.55 296 0.5067567567567568\n",
      "0.6000000000000001 153 0.5424836601307189\n",
      "0.6500000000000001 64 0.546875\n",
      "0.7000000000000002 25 0.56\n",
      "0.7500000000000002 9 0.4444444444444444\n",
      "0.8000000000000003 1 0.0\n"
     ]
    },
    {
     "name": "stderr",
     "output_type": "stream",
     "text": [
      "C:\\Users\\willi\\AppData\\Local\\Temp/ipykernel_19396/3926772144.py:7: RuntimeWarning: invalid value encountered in scalar divide\n",
      "  result = abs(pdf['real_margin'][i]-pdf['real_spread'][i])/(pdf['real_margin'][i]- pdf['real_spread'][i]) # 1 if home covers else -1\n"
     ]
    }
   ],
   "source": [
    "print('Analysis of XGBoost performance, by confidence')\n",
    "for margin in np.arange(0.5,0.8,.05):\n",
    "    count = 0\n",
    "    countTrue = 0\n",
    "    for i in pdf.index:\n",
    "        prob_xgboost = pdf['predicted_prob'][i]\n",
    "        result = abs(pdf['real_margin'][i]-pdf['real_spread'][i])/(pdf['real_margin'][i]- pdf['real_spread'][i]) # 1 if home covers else -1\n",
    "        if prob_xgboost > margin and result > 0:\n",
    "            countTrue += 1\n",
    "        elif prob_xgboost < 1 - margin and result < 0:\n",
    "            countTrue += 1\n",
    "        if (prob_xgboost > margin or prob_xgboost < 1-margin) and result is not None:\n",
    "            count += 1\n",
    "    print(margin, count, countTrue/count)"
   ]
  },
  {
   "cell_type": "code",
   "execution_count": 154,
   "id": "69eb89bd",
   "metadata": {},
   "outputs": [
    {
     "name": "stdout",
     "output_type": "stream",
     "text": [
      "Analysis of XGBoost performance, by confidence\n",
      "0.5 471 0.5074309978768577\n",
      "0.55 391 0.5012787723785166\n",
      "0.6000000000000001 323 0.4984520123839009\n",
      "0.6500000000000001 255 0.5019607843137255\n",
      "0.7000000000000002 187 0.5026737967914439\n",
      "0.7500000000000002 131 0.549618320610687\n",
      "0.8000000000000003 80 0.575\n",
      "0.8500000000000003 43 0.5581395348837209\n",
      "0.9000000000000004 16 0.5\n"
     ]
    }
   ],
   "source": [
    "print('Analysis of XGBoost performance, by confidence')\n",
    "for margin in np.arange(0.5,0.95,.05):\n",
    "    count = 0\n",
    "    countTrue = 0\n",
    "    for i in pdf.index:\n",
    "        prob_xgboost = pdf['predicted_prob'][i]\n",
    "        result = pdf['covers'][i] # 1 if home covers else -1\n",
    "        if ((prob_xgboost > margin) or (prob_xgboost < 1-margin)) and round(prob_xgboost) == round(result):\n",
    "            countTrue += 1\n",
    "        if (prob_xgboost > margin or prob_xgboost < 1-margin):\n",
    "            count += 1\n",
    "    print(margin, count, countTrue/count)"
   ]
  },
  {
   "cell_type": "code",
   "execution_count": 29,
   "id": "a9e14198",
   "metadata": {},
   "outputs": [
    {
     "name": "stdout",
     "output_type": "stream",
     "text": [
      "Analysis of performance, by difference from spread\n",
      "0 185 0.5243243243243243\n",
      "1 163 0.5460122699386503\n",
      "2 133 0.5488721804511278\n",
      "3 107 0.5700934579439252\n",
      "4 85 0.5882352941176471\n",
      "5 73 0.5753424657534246\n",
      "6 57 0.5964912280701754\n",
      "7 44 0.6136363636363636\n",
      "8 35 0.6857142857142857\n",
      "9 24 0.7083333333333334\n"
     ]
    },
    {
     "name": "stderr",
     "output_type": "stream",
     "text": [
      "C:\\Users\\willi\\AppData\\Local\\Temp/ipykernel_19396/1399544296.py:16: RuntimeWarning: invalid value encountered in scalar divide\n",
      "  if prediction == (abs(pdf_net['real_margin'][i]-pdf_net['real_spread'][i])/(pdf_net['real_margin'][i]- pdf_net['real_spread'][i])):\n"
     ]
    }
   ],
   "source": [
    "print('Analysis of performance, by difference from spread')\n",
    "\n",
    "for margin in range(10):\n",
    "    count = 0\n",
    "    countTrue = 0\n",
    "    for i in pdf_net.index:\n",
    "        prediction_net_minus_spread = pdf_net['real_predicted'][i] - pdf_net['real_spread'][i]\n",
    "        prediction_xgboost_minus_spread = pdf['predicted_prob'][i]\n",
    "        \n",
    "        if prediction_net_minus_spread < -margin and prediction_xgboost_minus_spread < .45:\n",
    "            prediction = -1\n",
    "        elif prediction_net_minus_spread > margin and prediction_xgboost_minus_spread > .55:\n",
    "            prediction = 1\n",
    "        else:\n",
    "            continue\n",
    "        if prediction == (abs(pdf_net['real_margin'][i]-pdf_net['real_spread'][i])/(pdf_net['real_margin'][i]- pdf_net['real_spread'][i])):\n",
    "            countTrue += 1\n",
    "        count += 1\n",
    "    print(margin, count, countTrue/count)"
   ]
  },
  {
   "cell_type": "code",
   "execution_count": 32,
   "id": "023ff8ba",
   "metadata": {},
   "outputs": [],
   "source": [
    "with open(\"features_for_cfb_model.dat\",'wb') as f:\n",
    "    pickle.dump(selected_features_2, f) \n",
    "    \n",
    "with open(\"neural_net_for_spread_cfb.dat\",'wb') as f:\n",
    "    pickle.dump(learn, f)\n",
    "    \n",
    "with open(\"XGBoost_for_spread_cfb.dat\",'wb') as f:\n",
    "    pickle.dump(grid.best_estimator_, f)"
   ]
  }
 ],
 "metadata": {
  "kernelspec": {
   "display_name": "Python 3 (ipykernel)",
   "language": "python",
   "name": "python3"
  },
  "language_info": {
   "codemirror_mode": {
    "name": "ipython",
    "version": 3
   },
   "file_extension": ".py",
   "mimetype": "text/x-python",
   "name": "python",
   "nbconvert_exporter": "python",
   "pygments_lexer": "ipython3",
   "version": "3.9.7"
  }
 },
 "nbformat": 4,
 "nbformat_minor": 5
}
